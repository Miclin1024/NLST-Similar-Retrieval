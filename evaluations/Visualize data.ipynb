{
 "cells": [
  {
   "cell_type": "code",
   "execution_count": 11,
   "id": "d8b08e61",
   "metadata": {},
   "outputs": [],
   "source": [
    "import os\n",
    "import numpy as np\n",
    "import pandas as pd\n",
    "import plotly.express as px\n",
    "import matplotlib.pyplot as plt\n",
    "import plotly.graph_objects as go\n",
    "from plotly.subplots import make_subplots"
   ]
  },
  {
   "cell_type": "markdown",
   "id": "f6c07e17",
   "metadata": {},
   "source": [
    "### Setup"
   ]
  },
  {
   "cell_type": "code",
   "execution_count": 13,
   "id": "388ef56c",
   "metadata": {},
   "outputs": [],
   "source": [
    "SIMILAR_LOG_TOP_SCAN_RETRIEVAL_SIZE = 5\n",
    "ROOT_DIR = \"/home/miclin/nlst-similarity\""
   ]
  },
  {
   "cell_type": "code",
   "execution_count": 14,
   "id": "0a9fe394",
   "metadata": {},
   "outputs": [],
   "source": [
    "class DataDict():\n",
    "    \n",
    "    data_dict = pd.DataFrame\n",
    "    metadata = pd.DataFrame    \n",
    "    \n",
    "    def __init__(self, data_dict_loc=\"Data dictionary.csv\", \n",
    "                 metadata_loc=\"nlst_297_prsn_20170404.csv\"):\n",
    "        \n",
    "        self.data_dict = pd.read_csv(data_dict_loc)\n",
    "        self.metadata = pd.read_csv(metadata_loc)\n",
    "        all_categories = np.unique(self.data_dict[\"Category\"])\n",
    "        \n",
    "        \n",
    "        by_categories = {}\n",
    "\n",
    "        for category in all_categories:\n",
    "            col_by_categories = self.data_dict[self.data_dict[\"Category\"] == category][\"Variable\"].values\n",
    "            col_by_categories = [col for col in col_by_categories if col in self.metadata.columns]\n",
    "            by_categories[category] = self.metadata.loc[:, col_by_categories]\n",
    "            \n",
    "        self.by_categories = by_categories\n",
    "\n",
    "    \n",
    "    def __str__(self):\n",
    "        return f\"All categories: {np.unique(self.data_dict['Category'])}\"\n",
    "        \n",
    "    def return_category(self, category):\n",
    "        '''Returns the columns in the metadata belonging to the given category.'''\n",
    "        \n",
    "        assert category in self.by_categories, f\"category {category} doesn't exist\"\n",
    "        \n",
    "        return self.by_categories[category]\n",
    "    \n",
    "    def category_info(self, category):\n",
    "        '''Returns information about a specific category.'''\n",
    "        \n",
    "        assert category in self.by_categories, f\"category {category} doesn't exist\"\n",
    "        \n",
    "        return self.data_dict[self.data_dict[\"Category\"] == category]\n",
    "    \n",
    "    def column_desc(self, column_name):\n",
    "        '''Returns description about a column name from the metadata table.'''\n",
    "        \n",
    "        assert column_name in self.metadata.columns, \"column not found\"\n",
    "        \n",
    "        desc = self.data_dict[self.data_dict[\"Variable\"] == column_name] \n",
    "        print(f\"Label: {desc['Label'].values}\")\n",
    "        print(f\"Description: {desc['Description'].values}\")\n",
    "        return desc\n",
    "\n"
   ]
  },
  {
   "cell_type": "code",
   "execution_count": 15,
   "id": "6a49f452",
   "metadata": {},
   "outputs": [],
   "source": [
    "class Visualize():\n",
    "\n",
    "    log = pd.DataFrame\n",
    "    metadata = pd.DataFrame \n",
    "\n",
    "    def __init__(self, metadata, log_loc):\n",
    "\n",
    "        self.metadata = metadata.set_index(\"pid\")\n",
    "\n",
    "        self.log = pd.read_csv(log_loc)\n",
    "    \n",
    "    def get_pids(self):\n",
    "        '''Get a 2D array with just pids. \n",
    "        An element of the array looks like the following:\n",
    "        [PID of query scan, PID of SMLR 0, PID of SMLR 1, ...]\n",
    "        '''\n",
    "        pid_col_names = [\"PID\"] + [f\"SMLR_{i}_PID\" for i in range(SIMILAR_LOG_TOP_SCAN_RETRIEVAL_SIZE)]\n",
    "        \n",
    "        return self.log[pid_col_names].values\n",
    "\n",
    "\n",
    "    def quantitative_(self, col: str, pids: np.ndarray,\n",
    "                  width: int =1500, height: int=500):\n",
    "        '''\n",
    "        Parameters:\n",
    "            1. col: column name \n",
    "            2. metadata: metadata table  \n",
    "            3. pids: list of pids; each item represents a query scan and its top five most similar scans\n",
    "            4. width and height: size of the plot \n",
    "            \n",
    "        Produce a dot plot of up to 100 query scans at once, so will only take the first 100 from the list of pids.\n",
    "        Good for representing quantitative data, such as age, smokeage, height, etc.\n",
    "        Appropriate to present one attribute at a time.\n",
    "        \n",
    "        '''\n",
    "        \n",
    "        #smoke = by_categories[\"Smoking\"]#.to_dict()\n",
    "        #pids = np.array(toy_sample[:100])\n",
    "        \n",
    "        pids = pids[:100]\n",
    "        query_pids = pids[:,0].astype(str)\n",
    "        names = [\"Query scan\"] + [f\"SMLR_{i}\" for i in range(5)]\n",
    "\n",
    "        fig = go.Figure()\n",
    "        for i in range(SIMILAR_LOG_TOP_SCAN_RETRIEVAL_SIZE):\n",
    "            \n",
    "\n",
    "            y = self.metadata.loc[pids[:,i],:][col]\n",
    "\n",
    "            fig.add_trace(go.Scatter(\n",
    "                x=query_pids,\n",
    "                y=y,\n",
    "                marker=dict(color=\"#636EFA\", size=5),\n",
    "                mode=\"markers\",\n",
    "                name=names[i],\n",
    "                showlegend=False\n",
    "            ))\n",
    "\n",
    "\n",
    "        fig.update_layout(title=col,\n",
    "                        xaxis_title=\"Query scan pid\",\n",
    "                        yaxis_title=col, \n",
    "                        xaxis=dict(dtick=1), \n",
    "                        width=width, \n",
    "                        height=height)\n",
    "\n",
    "        fig.show()\n",
    "\n",
    "    def binary_(self, cols: str, pids: np.ndarray,\n",
    "                    width: int =1500, height: int=500):\n",
    "        '''\n",
    "        Parameters:\n",
    "            1. cols: colume name\n",
    "            2. metadata: metadata table  \n",
    "            3. pids: list of pids; each item represents a query scan and its top five most similar scans\n",
    "            4. width and height: size of the plot \n",
    "            \n",
    "        Produce bar plots of up to 100 query scans at once, so will only take the first 100 from the list of pids.\n",
    "        Good for representing quantitative data, such as age, smokeage, height, etc.\n",
    "        \n",
    "        '''\n",
    "        \n",
    "        \n",
    "        pids = pids[:100]\n",
    "        query_pids = pids[:,0].astype(str)\n",
    "        \n",
    "        fig = make_subplots(rows=len(cols), cols=1, shared_xaxes=True)\n",
    "\n",
    "        for i, col in enumerate(cols):\n",
    "            \n",
    "            # get the binary markers without NaN: could be 0 and 1 or 1 and 2\n",
    "            binary_markers = np.unique(self.metadata[col])\n",
    "            binary_markers = binary_markers[~np.isnan(binary_markers)]\n",
    "\n",
    "            assert len(binary_markers) == 2, f\"{col} is not binary data\"\n",
    "            \n",
    "            y = []\n",
    "            for j in range(len(pids)):\n",
    "                data = self.metadata.loc[pids[j],:][col].values\n",
    "\n",
    "                # proportion out of the 5 scans that has marker binary_marker[0]\n",
    "                prop = np.sum(data == binary_markers[0]) / SIMILAR_LOG_TOP_SCAN_RETRIEVAL_SIZE\n",
    "                y.append(prop)\n",
    "\n",
    "            fig.add_trace(go.Bar(\n",
    "                x=query_pids,\n",
    "                y=y,\n",
    "                showlegend=False,\n",
    "                name = f\"{col}:{binary_markers[0]}\",\n",
    "            ), row= i + 1,\n",
    "                col=1)\n",
    "            fig.update_xaxes(dtick=1,title=\"Query scan pid\")\n",
    "\n",
    "        fig.update_layout(width=width, \n",
    "                        height=height)\n",
    "        fig.show()\n",
    "\n"
   ]
  },
  {
   "cell_type": "code",
   "execution_count": 16,
   "id": "da3bde9c",
   "metadata": {},
   "outputs": [
    {
     "name": "stderr",
     "output_type": "stream",
     "text": [
      "/usr/lib/python3/dist-packages/IPython/core/interactiveshell.py:3254: DtypeWarning: Columns (201,224,225) have mixed types. Specify dtype option on import or set low_memory=False.\n",
      "  if (await self.run_code(code, result,  async_=asy)):\n"
     ]
    },
    {
     "name": "stdout",
     "output_type": "stream",
     "text": [
      "Number of records: 300\n"
     ]
    }
   ],
   "source": [
    "\n",
    "data_dict_loc = os.path.join(ROOT_DIR, \"metadata\", \"Data dictionary.csv\")\n",
    "metadata_loc = os.path.join(ROOT_DIR, \"metadata/nlst_297_prsn_20170404.csv\")\n",
    "dd = DataDict(data_dict_loc=data_dict_loc, metadata_loc=metadata_loc)\n",
    "\n",
    "model_name = \"r3d_18_v0\"\n",
    "metadata = pd.read_csv(\n",
    "        metadata_loc,\n",
    "        dtype={201: \"str\", 224: \"str\", 225: \"str\"}\n",
    "    )\n",
    "\n",
    "log_loc = os.path.join(ROOT_DIR,\"logs\",\"same_patient\", model_name, \"0.csv\")\n",
    "visualize = Visualize(metadata=metadata, log_loc=log_loc)\n",
    "pids = visualize.get_pids()\n",
    "print(f\"Number of records: {len(pids)}\")\n"
   ]
  },
  {
   "cell_type": "code",
   "execution_count": 18,
   "id": "d327b662",
   "metadata": {},
   "outputs": [
    {
     "name": "stdout",
     "output_type": "stream",
     "text": [
      "All categories: ['Alcohol' 'Cancer history' 'Cancers of Any Site' 'Death' 'Demographic'\n",
      " 'Disease history' 'Follow-Up/Procedures' 'Lung cancer' 'Progression'\n",
      " 'Screening' 'Smoking' 'Study' 'Work history']\n"
     ]
    }
   ],
   "source": [
    "print(dd)"
   ]
  },
  {
   "cell_type": "code",
   "execution_count": 19,
   "id": "b045e552",
   "metadata": {},
   "outputs": [
    {
     "data": {
      "text/html": [
       "<div>\n",
       "<style scoped>\n",
       "    .dataframe tbody tr th:only-of-type {\n",
       "        vertical-align: middle;\n",
       "    }\n",
       "\n",
       "    .dataframe tbody tr th {\n",
       "        vertical-align: top;\n",
       "    }\n",
       "\n",
       "    .dataframe thead th {\n",
       "        text-align: right;\n",
       "    }\n",
       "</style>\n",
       "<table border=\"1\" class=\"dataframe\">\n",
       "  <thead>\n",
       "    <tr style=\"text-align: right;\">\n",
       "      <th></th>\n",
       "      <th>Variable</th>\n",
       "      <th>Label</th>\n",
       "      <th>Description</th>\n",
       "      <th>Format Text</th>\n",
       "      <th>Category</th>\n",
       "    </tr>\n",
       "  </thead>\n",
       "  <tbody>\n",
       "    <tr>\n",
       "      <th>17</th>\n",
       "      <td>age_quit</td>\n",
       "      <td>Age at smoking cessation</td>\n",
       "      <td>Age at which a participant stopped smoking cig...</td>\n",
       "      <td>Numeric .N=\"No age given\"</td>\n",
       "      <td>Smoking</td>\n",
       "    </tr>\n",
       "    <tr>\n",
       "      <th>18</th>\n",
       "      <td>cigar</td>\n",
       "      <td>Participant smokes/smoked cigars</td>\n",
       "      <td>NaN</td>\n",
       "      <td>.M=\"Missing\" 0=\"No\" 1=\"Yes\"</td>\n",
       "      <td>Smoking</td>\n",
       "    </tr>\n",
       "    <tr>\n",
       "      <th>19</th>\n",
       "      <td>cigsmok</td>\n",
       "      <td>Smoking status at T0</td>\n",
       "      <td>Cigarette smoking status (current vs former) a...</td>\n",
       "      <td>0=\"Former\" 1=\"Current\"</td>\n",
       "      <td>Smoking</td>\n",
       "    </tr>\n",
       "    <tr>\n",
       "      <th>20</th>\n",
       "      <td>pipe</td>\n",
       "      <td>Participant smokes/smoked a pipe</td>\n",
       "      <td>NaN</td>\n",
       "      <td>.M=\"Missing\" 0=\"No\" 1=\"Yes\"</td>\n",
       "      <td>Smoking</td>\n",
       "    </tr>\n",
       "    <tr>\n",
       "      <th>21</th>\n",
       "      <td>pkyr</td>\n",
       "      <td>Pack years</td>\n",
       "      <td>Pack years, calculated as: (Total Years Smoked...</td>\n",
       "      <td>Numeric</td>\n",
       "      <td>Smoking</td>\n",
       "    </tr>\n",
       "    <tr>\n",
       "      <th>22</th>\n",
       "      <td>smokeage</td>\n",
       "      <td>Age at smoking onset</td>\n",
       "      <td>Age at which a participant started smoking cig...</td>\n",
       "      <td>Numeric .M=\"Missing\"</td>\n",
       "      <td>Smoking</td>\n",
       "    </tr>\n",
       "    <tr>\n",
       "      <th>23</th>\n",
       "      <td>smokeday</td>\n",
       "      <td>Avg. num. of cigarettes per day</td>\n",
       "      <td>NaN</td>\n",
       "      <td>Numeric</td>\n",
       "      <td>Smoking</td>\n",
       "    </tr>\n",
       "    <tr>\n",
       "      <th>24</th>\n",
       "      <td>smokelive</td>\n",
       "      <td>Participant lives/lived with smoker</td>\n",
       "      <td>NaN</td>\n",
       "      <td>.M=\"Missing\" 0=\"No\" 1=\"Yes\"</td>\n",
       "      <td>Smoking</td>\n",
       "    </tr>\n",
       "    <tr>\n",
       "      <th>25</th>\n",
       "      <td>smokework</td>\n",
       "      <td>Participant works/worked with exposure to smokers</td>\n",
       "      <td>NaN</td>\n",
       "      <td>.M=\"Missing\" 0=\"No\" 1=\"Yes\"</td>\n",
       "      <td>Smoking</td>\n",
       "    </tr>\n",
       "    <tr>\n",
       "      <th>26</th>\n",
       "      <td>smokeyr</td>\n",
       "      <td>Total years of smoking</td>\n",
       "      <td>Total number of years the participant smoked c...</td>\n",
       "      <td>Numeric</td>\n",
       "      <td>Smoking</td>\n",
       "    </tr>\n",
       "  </tbody>\n",
       "</table>\n",
       "</div>"
      ],
      "text/plain": [
       "     Variable                                              Label  \\\n",
       "17   age_quit                           Age at smoking cessation   \n",
       "18      cigar                   Participant smokes/smoked cigars   \n",
       "19    cigsmok                               Smoking status at T0   \n",
       "20       pipe                   Participant smokes/smoked a pipe   \n",
       "21       pkyr                                         Pack years   \n",
       "22   smokeage                               Age at smoking onset   \n",
       "23   smokeday                    Avg. num. of cigarettes per day   \n",
       "24  smokelive                Participant lives/lived with smoker   \n",
       "25  smokework  Participant works/worked with exposure to smokers   \n",
       "26    smokeyr                             Total years of smoking   \n",
       "\n",
       "                                          Description  \\\n",
       "17  Age at which a participant stopped smoking cig...   \n",
       "18                                                NaN   \n",
       "19  Cigarette smoking status (current vs former) a...   \n",
       "20                                                NaN   \n",
       "21  Pack years, calculated as: (Total Years Smoked...   \n",
       "22  Age at which a participant started smoking cig...   \n",
       "23                                                NaN   \n",
       "24                                                NaN   \n",
       "25                                                NaN   \n",
       "26  Total number of years the participant smoked c...   \n",
       "\n",
       "                    Format Text Category  \n",
       "17    Numeric .N=\"No age given\"  Smoking  \n",
       "18  .M=\"Missing\" 0=\"No\" 1=\"Yes\"  Smoking  \n",
       "19       0=\"Former\" 1=\"Current\"  Smoking  \n",
       "20  .M=\"Missing\" 0=\"No\" 1=\"Yes\"  Smoking  \n",
       "21                      Numeric  Smoking  \n",
       "22         Numeric .M=\"Missing\"  Smoking  \n",
       "23                      Numeric  Smoking  \n",
       "24  .M=\"Missing\" 0=\"No\" 1=\"Yes\"  Smoking  \n",
       "25  .M=\"Missing\" 0=\"No\" 1=\"Yes\"  Smoking  \n",
       "26                      Numeric  Smoking  "
      ]
     },
     "execution_count": 19,
     "metadata": {},
     "output_type": "execute_result"
    }
   ],
   "source": [
    "dd.category_info(\"Smoking\")"
   ]
  },
  {
   "cell_type": "code",
   "execution_count": 8,
   "id": "9f89a515",
   "metadata": {},
   "outputs": [
    {
     "data": {
      "application/vnd.plotly.v1+json": {
       "config": {
        "plotlyServerURL": "https://plot.ly"
       },
       "data": [
        {
         "marker": {
          "color": "#636EFA",
          "size": 5
         },
         "mode": "markers",
         "name": "Query scan",
         "showlegend": false,
         "type": "scatter",
         "x": [
          "102266",
          "103581",
          "103581",
          "101224",
          "103992",
          "100550",
          "101165",
          "101165",
          "104406",
          "104406",
          "104406",
          "101057",
          "102355",
          "102355",
          "101190",
          "100680",
          "102892",
          "102541",
          "102541",
          "102537",
          "103930",
          "102320",
          "102487",
          "104744",
          "100374",
          "102216",
          "102216",
          "101323",
          "102502",
          "100951",
          "103291",
          "100519",
          "104917",
          "104917",
          "104769",
          "102803",
          "102627",
          "102464",
          "102511",
          "100004",
          "103676",
          "101144",
          "101144",
          "100973",
          "100328",
          "102485",
          "100512",
          "104527",
          "104527",
          "101824",
          "102918",
          "102918",
          "101427",
          "101427",
          "101638",
          "102865",
          "100194",
          "104814",
          "100221",
          "100221",
          "100159",
          "100673",
          "104816",
          "104321",
          "104321",
          "102827",
          "104285",
          "104285",
          "102218",
          "103416",
          "101444",
          "103037",
          "103037",
          "104026",
          "103250",
          "103250",
          "101136",
          "100188",
          "101019",
          "100231",
          "100231",
          "100214",
          "103131",
          "101973",
          "101973",
          "101973",
          "104365",
          "104278",
          "104643",
          "102305",
          "102305",
          "101081",
          "100470",
          "100470",
          "102930",
          "102930",
          "101289",
          "104460",
          "104460",
          "103237"
         ],
         "y": [
          16,
          17,
          17,
          21,
          14,
          17,
          19,
          19,
          18,
          18,
          18,
          14,
          17,
          17,
          14,
          30,
          18,
          18,
          18,
          11,
          15,
          18,
          16,
          15,
          13,
          12,
          12,
          9,
          14,
          17,
          18,
          20,
          14,
          14,
          16,
          13,
          20,
          19,
          10,
          22,
          16,
          18,
          18,
          18,
          15,
          21,
          13,
          18,
          18,
          15,
          13,
          13,
          16,
          16,
          18,
          16,
          12,
          18,
          18,
          18,
          38,
          21,
          18,
          19,
          19,
          18,
          21,
          21,
          14,
          13,
          18,
          15,
          15,
          18,
          13,
          13,
          18,
          20,
          18,
          20,
          20,
          14,
          19,
          19,
          19,
          19,
          18,
          17,
          19,
          15,
          15,
          15,
          18,
          18,
          20,
          20,
          19,
          15,
          15,
          17
         ]
        },
        {
         "marker": {
          "color": "#636EFA",
          "size": 5
         },
         "mode": "markers",
         "name": "SMLR_0",
         "showlegend": false,
         "type": "scatter",
         "x": [
          "102266",
          "103581",
          "103581",
          "101224",
          "103992",
          "100550",
          "101165",
          "101165",
          "104406",
          "104406",
          "104406",
          "101057",
          "102355",
          "102355",
          "101190",
          "100680",
          "102892",
          "102541",
          "102541",
          "102537",
          "103930",
          "102320",
          "102487",
          "104744",
          "100374",
          "102216",
          "102216",
          "101323",
          "102502",
          "100951",
          "103291",
          "100519",
          "104917",
          "104917",
          "104769",
          "102803",
          "102627",
          "102464",
          "102511",
          "100004",
          "103676",
          "101144",
          "101144",
          "100973",
          "100328",
          "102485",
          "100512",
          "104527",
          "104527",
          "101824",
          "102918",
          "102918",
          "101427",
          "101427",
          "101638",
          "102865",
          "100194",
          "104814",
          "100221",
          "100221",
          "100159",
          "100673",
          "104816",
          "104321",
          "104321",
          "102827",
          "104285",
          "104285",
          "102218",
          "103416",
          "101444",
          "103037",
          "103037",
          "104026",
          "103250",
          "103250",
          "101136",
          "100188",
          "101019",
          "100231",
          "100231",
          "100214",
          "103131",
          "101973",
          "101973",
          "101973",
          "104365",
          "104278",
          "104643",
          "102305",
          "102305",
          "101081",
          "100470",
          "100470",
          "102930",
          "102930",
          "101289",
          "104460",
          "104460",
          "103237"
         ],
         "y": [
          15,
          8,
          15,
          13,
          17,
          16,
          19,
          19,
          18,
          18,
          8,
          19,
          21,
          17,
          16,
          30,
          17,
          29,
          18,
          11,
          19,
          18,
          14,
          15,
          13,
          14,
          12,
          9,
          7,
          18,
          18,
          18,
          16,
          12,
          18,
          19,
          16,
          18,
          10,
          15,
          14,
          22,
          12,
          18,
          15,
          26,
          13,
          15,
          16,
          20,
          18,
          19,
          14,
          16,
          18,
          18,
          17,
          14,
          20,
          13,
          38,
          18,
          18,
          19,
          18,
          18,
          13,
          12,
          14,
          19,
          19,
          14,
          15,
          18,
          13,
          12,
          18,
          20,
          11,
          35,
          15,
          16,
          17,
          16,
          12,
          19,
          18,
          13,
          19,
          12,
          12,
          15,
          14,
          19,
          15,
          16,
          19,
          18,
          20,
          15
         ]
        },
        {
         "marker": {
          "color": "#636EFA",
          "size": 5
         },
         "mode": "markers",
         "name": "SMLR_1",
         "showlegend": false,
         "type": "scatter",
         "x": [
          "102266",
          "103581",
          "103581",
          "101224",
          "103992",
          "100550",
          "101165",
          "101165",
          "104406",
          "104406",
          "104406",
          "101057",
          "102355",
          "102355",
          "101190",
          "100680",
          "102892",
          "102541",
          "102541",
          "102537",
          "103930",
          "102320",
          "102487",
          "104744",
          "100374",
          "102216",
          "102216",
          "101323",
          "102502",
          "100951",
          "103291",
          "100519",
          "104917",
          "104917",
          "104769",
          "102803",
          "102627",
          "102464",
          "102511",
          "100004",
          "103676",
          "101144",
          "101144",
          "100973",
          "100328",
          "102485",
          "100512",
          "104527",
          "104527",
          "101824",
          "102918",
          "102918",
          "101427",
          "101427",
          "101638",
          "102865",
          "100194",
          "104814",
          "100221",
          "100221",
          "100159",
          "100673",
          "104816",
          "104321",
          "104321",
          "102827",
          "104285",
          "104285",
          "102218",
          "103416",
          "101444",
          "103037",
          "103037",
          "104026",
          "103250",
          "103250",
          "101136",
          "100188",
          "101019",
          "100231",
          "100231",
          "100214",
          "103131",
          "101973",
          "101973",
          "101973",
          "104365",
          "104278",
          "104643",
          "102305",
          "102305",
          "101081",
          "100470",
          "100470",
          "102930",
          "102930",
          "101289",
          "104460",
          "104460",
          "103237"
         ],
         "y": [
          18,
          17,
          18,
          12,
          15,
          18,
          19,
          19,
          15,
          16,
          8,
          13,
          17,
          16,
          15,
          20,
          18,
          18,
          21,
          17,
          20,
          18,
          14,
          17,
          18,
          13,
          9,
          15,
          18,
          18,
          18,
          18,
          16,
          18,
          16,
          20,
          15,
          19,
          10,
          14,
          18,
          21,
          13,
          15,
          15,
          21,
          18,
          21,
          15,
          18,
          14,
          20,
          16,
          16,
          14,
          15,
          15,
          20,
          13,
          14,
          15,
          21,
          13,
          15,
          22,
          18,
          13,
          13,
          20,
          19,
          19,
          18,
          14,
          18,
          18,
          13,
          19,
          20,
          16,
          20,
          15,
          16,
          13,
          16,
          19,
          15,
          15,
          18,
          19,
          15,
          15,
          15,
          18,
          14,
          18,
          16,
          15,
          12,
          14,
          19
         ]
        },
        {
         "marker": {
          "color": "#636EFA",
          "size": 5
         },
         "mode": "markers",
         "name": "SMLR_2",
         "showlegend": false,
         "type": "scatter",
         "x": [
          "102266",
          "103581",
          "103581",
          "101224",
          "103992",
          "100550",
          "101165",
          "101165",
          "104406",
          "104406",
          "104406",
          "101057",
          "102355",
          "102355",
          "101190",
          "100680",
          "102892",
          "102541",
          "102541",
          "102537",
          "103930",
          "102320",
          "102487",
          "104744",
          "100374",
          "102216",
          "102216",
          "101323",
          "102502",
          "100951",
          "103291",
          "100519",
          "104917",
          "104917",
          "104769",
          "102803",
          "102627",
          "102464",
          "102511",
          "100004",
          "103676",
          "101144",
          "101144",
          "100973",
          "100328",
          "102485",
          "100512",
          "104527",
          "104527",
          "101824",
          "102918",
          "102918",
          "101427",
          "101427",
          "101638",
          "102865",
          "100194",
          "104814",
          "100221",
          "100221",
          "100159",
          "100673",
          "104816",
          "104321",
          "104321",
          "102827",
          "104285",
          "104285",
          "102218",
          "103416",
          "101444",
          "103037",
          "103037",
          "104026",
          "103250",
          "103250",
          "101136",
          "100188",
          "101019",
          "100231",
          "100231",
          "100214",
          "103131",
          "101973",
          "101973",
          "101973",
          "104365",
          "104278",
          "104643",
          "102305",
          "102305",
          "101081",
          "100470",
          "100470",
          "102930",
          "102930",
          "101289",
          "104460",
          "104460",
          "103237"
         ],
         "y": [
          17,
          20,
          15,
          13,
          18,
          22,
          15,
          28,
          15,
          15,
          15,
          12,
          21,
          26,
          14,
          20,
          17,
          29,
          16,
          13,
          18,
          18,
          16,
          13,
          21,
          15,
          15,
          13,
          15,
          21,
          14,
          18,
          13,
          12,
          21,
          18,
          19,
          16,
          14,
          15,
          20,
          12,
          18,
          9,
          14,
          14,
          35,
          19,
          17,
          16,
          19,
          18,
          16,
          20,
          16,
          20,
          16,
          18,
          17,
          18,
          19,
          16,
          12,
          15,
          19,
          19,
          21,
          13,
          18,
          13,
          18,
          10,
          16,
          15,
          16,
          21,
          16,
          20,
          19,
          13,
          15,
          14,
          22,
          18,
          18,
          13,
          18,
          10,
          22,
          13,
          20,
          16,
          13,
          21,
          21,
          18,
          18,
          17,
          20,
          15
         ]
        },
        {
         "marker": {
          "color": "#636EFA",
          "size": 5
         },
         "mode": "markers",
         "name": "SMLR_3",
         "showlegend": false,
         "type": "scatter",
         "x": [
          "102266",
          "103581",
          "103581",
          "101224",
          "103992",
          "100550",
          "101165",
          "101165",
          "104406",
          "104406",
          "104406",
          "101057",
          "102355",
          "102355",
          "101190",
          "100680",
          "102892",
          "102541",
          "102541",
          "102537",
          "103930",
          "102320",
          "102487",
          "104744",
          "100374",
          "102216",
          "102216",
          "101323",
          "102502",
          "100951",
          "103291",
          "100519",
          "104917",
          "104917",
          "104769",
          "102803",
          "102627",
          "102464",
          "102511",
          "100004",
          "103676",
          "101144",
          "101144",
          "100973",
          "100328",
          "102485",
          "100512",
          "104527",
          "104527",
          "101824",
          "102918",
          "102918",
          "101427",
          "101427",
          "101638",
          "102865",
          "100194",
          "104814",
          "100221",
          "100221",
          "100159",
          "100673",
          "104816",
          "104321",
          "104321",
          "102827",
          "104285",
          "104285",
          "102218",
          "103416",
          "101444",
          "103037",
          "103037",
          "104026",
          "103250",
          "103250",
          "101136",
          "100188",
          "101019",
          "100231",
          "100231",
          "100214",
          "103131",
          "101973",
          "101973",
          "101973",
          "104365",
          "104278",
          "104643",
          "102305",
          "102305",
          "101081",
          "100470",
          "100470",
          "102930",
          "102930",
          "101289",
          "104460",
          "104460",
          "103237"
         ],
         "y": [
          11,
          13,
          20,
          14,
          18,
          22,
          14,
          15,
          16,
          16,
          13,
          18,
          15,
          15,
          15,
          19,
          21,
          17,
          23,
          22,
          15,
          20,
          15,
          14,
          18,
          16,
          15,
          19,
          19,
          12,
          18,
          14,
          13,
          14,
          18,
          13,
          23,
          21,
          15,
          14,
          15,
          28,
          15,
          13,
          16,
          18,
          18,
          13,
          18,
          15,
          13,
          17,
          20,
          18,
          21,
          20,
          16,
          21,
          11,
          16,
          14,
          23,
          18,
          19,
          21,
          14,
          20,
          15,
          15,
          13,
          15,
          13,
          15,
          11,
          13,
          15,
          22,
          23,
          20,
          20,
          18,
          14,
          22,
          18,
          22,
          21,
          18,
          10,
          20,
          16,
          17,
          12,
          22,
          16,
          19,
          20,
          13,
          12,
          16,
          20
         ]
        }
       ],
       "layout": {
        "height": 500,
        "template": {
         "data": {
          "bar": [
           {
            "error_x": {
             "color": "#2a3f5f"
            },
            "error_y": {
             "color": "#2a3f5f"
            },
            "marker": {
             "line": {
              "color": "#E5ECF6",
              "width": 0.5
             },
             "pattern": {
              "fillmode": "overlay",
              "size": 10,
              "solidity": 0.2
             }
            },
            "type": "bar"
           }
          ],
          "barpolar": [
           {
            "marker": {
             "line": {
              "color": "#E5ECF6",
              "width": 0.5
             },
             "pattern": {
              "fillmode": "overlay",
              "size": 10,
              "solidity": 0.2
             }
            },
            "type": "barpolar"
           }
          ],
          "carpet": [
           {
            "aaxis": {
             "endlinecolor": "#2a3f5f",
             "gridcolor": "white",
             "linecolor": "white",
             "minorgridcolor": "white",
             "startlinecolor": "#2a3f5f"
            },
            "baxis": {
             "endlinecolor": "#2a3f5f",
             "gridcolor": "white",
             "linecolor": "white",
             "minorgridcolor": "white",
             "startlinecolor": "#2a3f5f"
            },
            "type": "carpet"
           }
          ],
          "choropleth": [
           {
            "colorbar": {
             "outlinewidth": 0,
             "ticks": ""
            },
            "type": "choropleth"
           }
          ],
          "contour": [
           {
            "colorbar": {
             "outlinewidth": 0,
             "ticks": ""
            },
            "colorscale": [
             [
              0,
              "#0d0887"
             ],
             [
              0.1111111111111111,
              "#46039f"
             ],
             [
              0.2222222222222222,
              "#7201a8"
             ],
             [
              0.3333333333333333,
              "#9c179e"
             ],
             [
              0.4444444444444444,
              "#bd3786"
             ],
             [
              0.5555555555555556,
              "#d8576b"
             ],
             [
              0.6666666666666666,
              "#ed7953"
             ],
             [
              0.7777777777777778,
              "#fb9f3a"
             ],
             [
              0.8888888888888888,
              "#fdca26"
             ],
             [
              1,
              "#f0f921"
             ]
            ],
            "type": "contour"
           }
          ],
          "contourcarpet": [
           {
            "colorbar": {
             "outlinewidth": 0,
             "ticks": ""
            },
            "type": "contourcarpet"
           }
          ],
          "heatmap": [
           {
            "colorbar": {
             "outlinewidth": 0,
             "ticks": ""
            },
            "colorscale": [
             [
              0,
              "#0d0887"
             ],
             [
              0.1111111111111111,
              "#46039f"
             ],
             [
              0.2222222222222222,
              "#7201a8"
             ],
             [
              0.3333333333333333,
              "#9c179e"
             ],
             [
              0.4444444444444444,
              "#bd3786"
             ],
             [
              0.5555555555555556,
              "#d8576b"
             ],
             [
              0.6666666666666666,
              "#ed7953"
             ],
             [
              0.7777777777777778,
              "#fb9f3a"
             ],
             [
              0.8888888888888888,
              "#fdca26"
             ],
             [
              1,
              "#f0f921"
             ]
            ],
            "type": "heatmap"
           }
          ],
          "heatmapgl": [
           {
            "colorbar": {
             "outlinewidth": 0,
             "ticks": ""
            },
            "colorscale": [
             [
              0,
              "#0d0887"
             ],
             [
              0.1111111111111111,
              "#46039f"
             ],
             [
              0.2222222222222222,
              "#7201a8"
             ],
             [
              0.3333333333333333,
              "#9c179e"
             ],
             [
              0.4444444444444444,
              "#bd3786"
             ],
             [
              0.5555555555555556,
              "#d8576b"
             ],
             [
              0.6666666666666666,
              "#ed7953"
             ],
             [
              0.7777777777777778,
              "#fb9f3a"
             ],
             [
              0.8888888888888888,
              "#fdca26"
             ],
             [
              1,
              "#f0f921"
             ]
            ],
            "type": "heatmapgl"
           }
          ],
          "histogram": [
           {
            "marker": {
             "pattern": {
              "fillmode": "overlay",
              "size": 10,
              "solidity": 0.2
             }
            },
            "type": "histogram"
           }
          ],
          "histogram2d": [
           {
            "colorbar": {
             "outlinewidth": 0,
             "ticks": ""
            },
            "colorscale": [
             [
              0,
              "#0d0887"
             ],
             [
              0.1111111111111111,
              "#46039f"
             ],
             [
              0.2222222222222222,
              "#7201a8"
             ],
             [
              0.3333333333333333,
              "#9c179e"
             ],
             [
              0.4444444444444444,
              "#bd3786"
             ],
             [
              0.5555555555555556,
              "#d8576b"
             ],
             [
              0.6666666666666666,
              "#ed7953"
             ],
             [
              0.7777777777777778,
              "#fb9f3a"
             ],
             [
              0.8888888888888888,
              "#fdca26"
             ],
             [
              1,
              "#f0f921"
             ]
            ],
            "type": "histogram2d"
           }
          ],
          "histogram2dcontour": [
           {
            "colorbar": {
             "outlinewidth": 0,
             "ticks": ""
            },
            "colorscale": [
             [
              0,
              "#0d0887"
             ],
             [
              0.1111111111111111,
              "#46039f"
             ],
             [
              0.2222222222222222,
              "#7201a8"
             ],
             [
              0.3333333333333333,
              "#9c179e"
             ],
             [
              0.4444444444444444,
              "#bd3786"
             ],
             [
              0.5555555555555556,
              "#d8576b"
             ],
             [
              0.6666666666666666,
              "#ed7953"
             ],
             [
              0.7777777777777778,
              "#fb9f3a"
             ],
             [
              0.8888888888888888,
              "#fdca26"
             ],
             [
              1,
              "#f0f921"
             ]
            ],
            "type": "histogram2dcontour"
           }
          ],
          "mesh3d": [
           {
            "colorbar": {
             "outlinewidth": 0,
             "ticks": ""
            },
            "type": "mesh3d"
           }
          ],
          "parcoords": [
           {
            "line": {
             "colorbar": {
              "outlinewidth": 0,
              "ticks": ""
             }
            },
            "type": "parcoords"
           }
          ],
          "pie": [
           {
            "automargin": true,
            "type": "pie"
           }
          ],
          "scatter": [
           {
            "fillpattern": {
             "fillmode": "overlay",
             "size": 10,
             "solidity": 0.2
            },
            "type": "scatter"
           }
          ],
          "scatter3d": [
           {
            "line": {
             "colorbar": {
              "outlinewidth": 0,
              "ticks": ""
             }
            },
            "marker": {
             "colorbar": {
              "outlinewidth": 0,
              "ticks": ""
             }
            },
            "type": "scatter3d"
           }
          ],
          "scattercarpet": [
           {
            "marker": {
             "colorbar": {
              "outlinewidth": 0,
              "ticks": ""
             }
            },
            "type": "scattercarpet"
           }
          ],
          "scattergeo": [
           {
            "marker": {
             "colorbar": {
              "outlinewidth": 0,
              "ticks": ""
             }
            },
            "type": "scattergeo"
           }
          ],
          "scattergl": [
           {
            "marker": {
             "colorbar": {
              "outlinewidth": 0,
              "ticks": ""
             }
            },
            "type": "scattergl"
           }
          ],
          "scattermapbox": [
           {
            "marker": {
             "colorbar": {
              "outlinewidth": 0,
              "ticks": ""
             }
            },
            "type": "scattermapbox"
           }
          ],
          "scatterpolar": [
           {
            "marker": {
             "colorbar": {
              "outlinewidth": 0,
              "ticks": ""
             }
            },
            "type": "scatterpolar"
           }
          ],
          "scatterpolargl": [
           {
            "marker": {
             "colorbar": {
              "outlinewidth": 0,
              "ticks": ""
             }
            },
            "type": "scatterpolargl"
           }
          ],
          "scatterternary": [
           {
            "marker": {
             "colorbar": {
              "outlinewidth": 0,
              "ticks": ""
             }
            },
            "type": "scatterternary"
           }
          ],
          "surface": [
           {
            "colorbar": {
             "outlinewidth": 0,
             "ticks": ""
            },
            "colorscale": [
             [
              0,
              "#0d0887"
             ],
             [
              0.1111111111111111,
              "#46039f"
             ],
             [
              0.2222222222222222,
              "#7201a8"
             ],
             [
              0.3333333333333333,
              "#9c179e"
             ],
             [
              0.4444444444444444,
              "#bd3786"
             ],
             [
              0.5555555555555556,
              "#d8576b"
             ],
             [
              0.6666666666666666,
              "#ed7953"
             ],
             [
              0.7777777777777778,
              "#fb9f3a"
             ],
             [
              0.8888888888888888,
              "#fdca26"
             ],
             [
              1,
              "#f0f921"
             ]
            ],
            "type": "surface"
           }
          ],
          "table": [
           {
            "cells": {
             "fill": {
              "color": "#EBF0F8"
             },
             "line": {
              "color": "white"
             }
            },
            "header": {
             "fill": {
              "color": "#C8D4E3"
             },
             "line": {
              "color": "white"
             }
            },
            "type": "table"
           }
          ]
         },
         "layout": {
          "annotationdefaults": {
           "arrowcolor": "#2a3f5f",
           "arrowhead": 0,
           "arrowwidth": 1
          },
          "autotypenumbers": "strict",
          "coloraxis": {
           "colorbar": {
            "outlinewidth": 0,
            "ticks": ""
           }
          },
          "colorscale": {
           "diverging": [
            [
             0,
             "#8e0152"
            ],
            [
             0.1,
             "#c51b7d"
            ],
            [
             0.2,
             "#de77ae"
            ],
            [
             0.3,
             "#f1b6da"
            ],
            [
             0.4,
             "#fde0ef"
            ],
            [
             0.5,
             "#f7f7f7"
            ],
            [
             0.6,
             "#e6f5d0"
            ],
            [
             0.7,
             "#b8e186"
            ],
            [
             0.8,
             "#7fbc41"
            ],
            [
             0.9,
             "#4d9221"
            ],
            [
             1,
             "#276419"
            ]
           ],
           "sequential": [
            [
             0,
             "#0d0887"
            ],
            [
             0.1111111111111111,
             "#46039f"
            ],
            [
             0.2222222222222222,
             "#7201a8"
            ],
            [
             0.3333333333333333,
             "#9c179e"
            ],
            [
             0.4444444444444444,
             "#bd3786"
            ],
            [
             0.5555555555555556,
             "#d8576b"
            ],
            [
             0.6666666666666666,
             "#ed7953"
            ],
            [
             0.7777777777777778,
             "#fb9f3a"
            ],
            [
             0.8888888888888888,
             "#fdca26"
            ],
            [
             1,
             "#f0f921"
            ]
           ],
           "sequentialminus": [
            [
             0,
             "#0d0887"
            ],
            [
             0.1111111111111111,
             "#46039f"
            ],
            [
             0.2222222222222222,
             "#7201a8"
            ],
            [
             0.3333333333333333,
             "#9c179e"
            ],
            [
             0.4444444444444444,
             "#bd3786"
            ],
            [
             0.5555555555555556,
             "#d8576b"
            ],
            [
             0.6666666666666666,
             "#ed7953"
            ],
            [
             0.7777777777777778,
             "#fb9f3a"
            ],
            [
             0.8888888888888888,
             "#fdca26"
            ],
            [
             1,
             "#f0f921"
            ]
           ]
          },
          "colorway": [
           "#636efa",
           "#EF553B",
           "#00cc96",
           "#ab63fa",
           "#FFA15A",
           "#19d3f3",
           "#FF6692",
           "#B6E880",
           "#FF97FF",
           "#FECB52"
          ],
          "font": {
           "color": "#2a3f5f"
          },
          "geo": {
           "bgcolor": "white",
           "lakecolor": "white",
           "landcolor": "#E5ECF6",
           "showlakes": true,
           "showland": true,
           "subunitcolor": "white"
          },
          "hoverlabel": {
           "align": "left"
          },
          "hovermode": "closest",
          "mapbox": {
           "style": "light"
          },
          "paper_bgcolor": "white",
          "plot_bgcolor": "#E5ECF6",
          "polar": {
           "angularaxis": {
            "gridcolor": "white",
            "linecolor": "white",
            "ticks": ""
           },
           "bgcolor": "#E5ECF6",
           "radialaxis": {
            "gridcolor": "white",
            "linecolor": "white",
            "ticks": ""
           }
          },
          "scene": {
           "xaxis": {
            "backgroundcolor": "#E5ECF6",
            "gridcolor": "white",
            "gridwidth": 2,
            "linecolor": "white",
            "showbackground": true,
            "ticks": "",
            "zerolinecolor": "white"
           },
           "yaxis": {
            "backgroundcolor": "#E5ECF6",
            "gridcolor": "white",
            "gridwidth": 2,
            "linecolor": "white",
            "showbackground": true,
            "ticks": "",
            "zerolinecolor": "white"
           },
           "zaxis": {
            "backgroundcolor": "#E5ECF6",
            "gridcolor": "white",
            "gridwidth": 2,
            "linecolor": "white",
            "showbackground": true,
            "ticks": "",
            "zerolinecolor": "white"
           }
          },
          "shapedefaults": {
           "line": {
            "color": "#2a3f5f"
           }
          },
          "ternary": {
           "aaxis": {
            "gridcolor": "white",
            "linecolor": "white",
            "ticks": ""
           },
           "baxis": {
            "gridcolor": "white",
            "linecolor": "white",
            "ticks": ""
           },
           "bgcolor": "#E5ECF6",
           "caxis": {
            "gridcolor": "white",
            "linecolor": "white",
            "ticks": ""
           }
          },
          "title": {
           "x": 0.05
          },
          "xaxis": {
           "automargin": true,
           "gridcolor": "white",
           "linecolor": "white",
           "ticks": "",
           "title": {
            "standoff": 15
           },
           "zerolinecolor": "white",
           "zerolinewidth": 2
          },
          "yaxis": {
           "automargin": true,
           "gridcolor": "white",
           "linecolor": "white",
           "ticks": "",
           "title": {
            "standoff": 15
           },
           "zerolinecolor": "white",
           "zerolinewidth": 2
          }
         }
        },
        "title": {
         "text": "smokeage"
        },
        "width": 1500,
        "xaxis": {
         "dtick": 1,
         "title": {
          "text": "Query scan pid"
         }
        },
        "yaxis": {
         "title": {
          "text": "smokeage"
         }
        }
       }
      },
      "text/html": [
       "<div>                            <div id=\"c8e53cdc-5dc0-4351-aa9d-609315fbafbf\" class=\"plotly-graph-div\" style=\"height:500px; width:1500px;\"></div>            <script type=\"text/javascript\">                require([\"plotly\"], function(Plotly) {                    window.PLOTLYENV=window.PLOTLYENV || {};                                    if (document.getElementById(\"c8e53cdc-5dc0-4351-aa9d-609315fbafbf\")) {                    Plotly.newPlot(                        \"c8e53cdc-5dc0-4351-aa9d-609315fbafbf\",                        [{\"marker\":{\"color\":\"#636EFA\",\"size\":5},\"mode\":\"markers\",\"name\":\"Query scan\",\"showlegend\":false,\"x\":[\"102266\",\"103581\",\"103581\",\"101224\",\"103992\",\"100550\",\"101165\",\"101165\",\"104406\",\"104406\",\"104406\",\"101057\",\"102355\",\"102355\",\"101190\",\"100680\",\"102892\",\"102541\",\"102541\",\"102537\",\"103930\",\"102320\",\"102487\",\"104744\",\"100374\",\"102216\",\"102216\",\"101323\",\"102502\",\"100951\",\"103291\",\"100519\",\"104917\",\"104917\",\"104769\",\"102803\",\"102627\",\"102464\",\"102511\",\"100004\",\"103676\",\"101144\",\"101144\",\"100973\",\"100328\",\"102485\",\"100512\",\"104527\",\"104527\",\"101824\",\"102918\",\"102918\",\"101427\",\"101427\",\"101638\",\"102865\",\"100194\",\"104814\",\"100221\",\"100221\",\"100159\",\"100673\",\"104816\",\"104321\",\"104321\",\"102827\",\"104285\",\"104285\",\"102218\",\"103416\",\"101444\",\"103037\",\"103037\",\"104026\",\"103250\",\"103250\",\"101136\",\"100188\",\"101019\",\"100231\",\"100231\",\"100214\",\"103131\",\"101973\",\"101973\",\"101973\",\"104365\",\"104278\",\"104643\",\"102305\",\"102305\",\"101081\",\"100470\",\"100470\",\"102930\",\"102930\",\"101289\",\"104460\",\"104460\",\"103237\"],\"y\":[16.0,17.0,17.0,21.0,14.0,17.0,19.0,19.0,18.0,18.0,18.0,14.0,17.0,17.0,14.0,30.0,18.0,18.0,18.0,11.0,15.0,18.0,16.0,15.0,13.0,12.0,12.0,9.0,14.0,17.0,18.0,20.0,14.0,14.0,16.0,13.0,20.0,19.0,10.0,22.0,16.0,18.0,18.0,18.0,15.0,21.0,13.0,18.0,18.0,15.0,13.0,13.0,16.0,16.0,18.0,16.0,12.0,18.0,18.0,18.0,38.0,21.0,18.0,19.0,19.0,18.0,21.0,21.0,14.0,13.0,18.0,15.0,15.0,18.0,13.0,13.0,18.0,20.0,18.0,20.0,20.0,14.0,19.0,19.0,19.0,19.0,18.0,17.0,19.0,15.0,15.0,15.0,18.0,18.0,20.0,20.0,19.0,15.0,15.0,17.0],\"type\":\"scatter\"},{\"marker\":{\"color\":\"#636EFA\",\"size\":5},\"mode\":\"markers\",\"name\":\"SMLR_0\",\"showlegend\":false,\"x\":[\"102266\",\"103581\",\"103581\",\"101224\",\"103992\",\"100550\",\"101165\",\"101165\",\"104406\",\"104406\",\"104406\",\"101057\",\"102355\",\"102355\",\"101190\",\"100680\",\"102892\",\"102541\",\"102541\",\"102537\",\"103930\",\"102320\",\"102487\",\"104744\",\"100374\",\"102216\",\"102216\",\"101323\",\"102502\",\"100951\",\"103291\",\"100519\",\"104917\",\"104917\",\"104769\",\"102803\",\"102627\",\"102464\",\"102511\",\"100004\",\"103676\",\"101144\",\"101144\",\"100973\",\"100328\",\"102485\",\"100512\",\"104527\",\"104527\",\"101824\",\"102918\",\"102918\",\"101427\",\"101427\",\"101638\",\"102865\",\"100194\",\"104814\",\"100221\",\"100221\",\"100159\",\"100673\",\"104816\",\"104321\",\"104321\",\"102827\",\"104285\",\"104285\",\"102218\",\"103416\",\"101444\",\"103037\",\"103037\",\"104026\",\"103250\",\"103250\",\"101136\",\"100188\",\"101019\",\"100231\",\"100231\",\"100214\",\"103131\",\"101973\",\"101973\",\"101973\",\"104365\",\"104278\",\"104643\",\"102305\",\"102305\",\"101081\",\"100470\",\"100470\",\"102930\",\"102930\",\"101289\",\"104460\",\"104460\",\"103237\"],\"y\":[15.0,8.0,15.0,13.0,17.0,16.0,19.0,19.0,18.0,18.0,8.0,19.0,21.0,17.0,16.0,30.0,17.0,29.0,18.0,11.0,19.0,18.0,14.0,15.0,13.0,14.0,12.0,9.0,7.0,18.0,18.0,18.0,16.0,12.0,18.0,19.0,16.0,18.0,10.0,15.0,14.0,22.0,12.0,18.0,15.0,26.0,13.0,15.0,16.0,20.0,18.0,19.0,14.0,16.0,18.0,18.0,17.0,14.0,20.0,13.0,38.0,18.0,18.0,19.0,18.0,18.0,13.0,12.0,14.0,19.0,19.0,14.0,15.0,18.0,13.0,12.0,18.0,20.0,11.0,35.0,15.0,16.0,17.0,16.0,12.0,19.0,18.0,13.0,19.0,12.0,12.0,15.0,14.0,19.0,15.0,16.0,19.0,18.0,20.0,15.0],\"type\":\"scatter\"},{\"marker\":{\"color\":\"#636EFA\",\"size\":5},\"mode\":\"markers\",\"name\":\"SMLR_1\",\"showlegend\":false,\"x\":[\"102266\",\"103581\",\"103581\",\"101224\",\"103992\",\"100550\",\"101165\",\"101165\",\"104406\",\"104406\",\"104406\",\"101057\",\"102355\",\"102355\",\"101190\",\"100680\",\"102892\",\"102541\",\"102541\",\"102537\",\"103930\",\"102320\",\"102487\",\"104744\",\"100374\",\"102216\",\"102216\",\"101323\",\"102502\",\"100951\",\"103291\",\"100519\",\"104917\",\"104917\",\"104769\",\"102803\",\"102627\",\"102464\",\"102511\",\"100004\",\"103676\",\"101144\",\"101144\",\"100973\",\"100328\",\"102485\",\"100512\",\"104527\",\"104527\",\"101824\",\"102918\",\"102918\",\"101427\",\"101427\",\"101638\",\"102865\",\"100194\",\"104814\",\"100221\",\"100221\",\"100159\",\"100673\",\"104816\",\"104321\",\"104321\",\"102827\",\"104285\",\"104285\",\"102218\",\"103416\",\"101444\",\"103037\",\"103037\",\"104026\",\"103250\",\"103250\",\"101136\",\"100188\",\"101019\",\"100231\",\"100231\",\"100214\",\"103131\",\"101973\",\"101973\",\"101973\",\"104365\",\"104278\",\"104643\",\"102305\",\"102305\",\"101081\",\"100470\",\"100470\",\"102930\",\"102930\",\"101289\",\"104460\",\"104460\",\"103237\"],\"y\":[18.0,17.0,18.0,12.0,15.0,18.0,19.0,19.0,15.0,16.0,8.0,13.0,17.0,16.0,15.0,20.0,18.0,18.0,21.0,17.0,20.0,18.0,14.0,17.0,18.0,13.0,9.0,15.0,18.0,18.0,18.0,18.0,16.0,18.0,16.0,20.0,15.0,19.0,10.0,14.0,18.0,21.0,13.0,15.0,15.0,21.0,18.0,21.0,15.0,18.0,14.0,20.0,16.0,16.0,14.0,15.0,15.0,20.0,13.0,14.0,15.0,21.0,13.0,15.0,22.0,18.0,13.0,13.0,20.0,19.0,19.0,18.0,14.0,18.0,18.0,13.0,19.0,20.0,16.0,20.0,15.0,16.0,13.0,16.0,19.0,15.0,15.0,18.0,19.0,15.0,15.0,15.0,18.0,14.0,18.0,16.0,15.0,12.0,14.0,19.0],\"type\":\"scatter\"},{\"marker\":{\"color\":\"#636EFA\",\"size\":5},\"mode\":\"markers\",\"name\":\"SMLR_2\",\"showlegend\":false,\"x\":[\"102266\",\"103581\",\"103581\",\"101224\",\"103992\",\"100550\",\"101165\",\"101165\",\"104406\",\"104406\",\"104406\",\"101057\",\"102355\",\"102355\",\"101190\",\"100680\",\"102892\",\"102541\",\"102541\",\"102537\",\"103930\",\"102320\",\"102487\",\"104744\",\"100374\",\"102216\",\"102216\",\"101323\",\"102502\",\"100951\",\"103291\",\"100519\",\"104917\",\"104917\",\"104769\",\"102803\",\"102627\",\"102464\",\"102511\",\"100004\",\"103676\",\"101144\",\"101144\",\"100973\",\"100328\",\"102485\",\"100512\",\"104527\",\"104527\",\"101824\",\"102918\",\"102918\",\"101427\",\"101427\",\"101638\",\"102865\",\"100194\",\"104814\",\"100221\",\"100221\",\"100159\",\"100673\",\"104816\",\"104321\",\"104321\",\"102827\",\"104285\",\"104285\",\"102218\",\"103416\",\"101444\",\"103037\",\"103037\",\"104026\",\"103250\",\"103250\",\"101136\",\"100188\",\"101019\",\"100231\",\"100231\",\"100214\",\"103131\",\"101973\",\"101973\",\"101973\",\"104365\",\"104278\",\"104643\",\"102305\",\"102305\",\"101081\",\"100470\",\"100470\",\"102930\",\"102930\",\"101289\",\"104460\",\"104460\",\"103237\"],\"y\":[17.0,20.0,15.0,13.0,18.0,22.0,15.0,28.0,15.0,15.0,15.0,12.0,21.0,26.0,14.0,20.0,17.0,29.0,16.0,13.0,18.0,18.0,16.0,13.0,21.0,15.0,15.0,13.0,15.0,21.0,14.0,18.0,13.0,12.0,21.0,18.0,19.0,16.0,14.0,15.0,20.0,12.0,18.0,9.0,14.0,14.0,35.0,19.0,17.0,16.0,19.0,18.0,16.0,20.0,16.0,20.0,16.0,18.0,17.0,18.0,19.0,16.0,12.0,15.0,19.0,19.0,21.0,13.0,18.0,13.0,18.0,10.0,16.0,15.0,16.0,21.0,16.0,20.0,19.0,13.0,15.0,14.0,22.0,18.0,18.0,13.0,18.0,10.0,22.0,13.0,20.0,16.0,13.0,21.0,21.0,18.0,18.0,17.0,20.0,15.0],\"type\":\"scatter\"},{\"marker\":{\"color\":\"#636EFA\",\"size\":5},\"mode\":\"markers\",\"name\":\"SMLR_3\",\"showlegend\":false,\"x\":[\"102266\",\"103581\",\"103581\",\"101224\",\"103992\",\"100550\",\"101165\",\"101165\",\"104406\",\"104406\",\"104406\",\"101057\",\"102355\",\"102355\",\"101190\",\"100680\",\"102892\",\"102541\",\"102541\",\"102537\",\"103930\",\"102320\",\"102487\",\"104744\",\"100374\",\"102216\",\"102216\",\"101323\",\"102502\",\"100951\",\"103291\",\"100519\",\"104917\",\"104917\",\"104769\",\"102803\",\"102627\",\"102464\",\"102511\",\"100004\",\"103676\",\"101144\",\"101144\",\"100973\",\"100328\",\"102485\",\"100512\",\"104527\",\"104527\",\"101824\",\"102918\",\"102918\",\"101427\",\"101427\",\"101638\",\"102865\",\"100194\",\"104814\",\"100221\",\"100221\",\"100159\",\"100673\",\"104816\",\"104321\",\"104321\",\"102827\",\"104285\",\"104285\",\"102218\",\"103416\",\"101444\",\"103037\",\"103037\",\"104026\",\"103250\",\"103250\",\"101136\",\"100188\",\"101019\",\"100231\",\"100231\",\"100214\",\"103131\",\"101973\",\"101973\",\"101973\",\"104365\",\"104278\",\"104643\",\"102305\",\"102305\",\"101081\",\"100470\",\"100470\",\"102930\",\"102930\",\"101289\",\"104460\",\"104460\",\"103237\"],\"y\":[11.0,13.0,20.0,14.0,18.0,22.0,14.0,15.0,16.0,16.0,13.0,18.0,15.0,15.0,15.0,19.0,21.0,17.0,23.0,22.0,15.0,20.0,15.0,14.0,18.0,16.0,15.0,19.0,19.0,12.0,18.0,14.0,13.0,14.0,18.0,13.0,23.0,21.0,15.0,14.0,15.0,28.0,15.0,13.0,16.0,18.0,18.0,13.0,18.0,15.0,13.0,17.0,20.0,18.0,21.0,20.0,16.0,21.0,11.0,16.0,14.0,23.0,18.0,19.0,21.0,14.0,20.0,15.0,15.0,13.0,15.0,13.0,15.0,11.0,13.0,15.0,22.0,23.0,20.0,20.0,18.0,14.0,22.0,18.0,22.0,21.0,18.0,10.0,20.0,16.0,17.0,12.0,22.0,16.0,19.0,20.0,13.0,12.0,16.0,20.0],\"type\":\"scatter\"}],                        {\"template\":{\"data\":{\"histogram2dcontour\":[{\"type\":\"histogram2dcontour\",\"colorbar\":{\"outlinewidth\":0,\"ticks\":\"\"},\"colorscale\":[[0.0,\"#0d0887\"],[0.1111111111111111,\"#46039f\"],[0.2222222222222222,\"#7201a8\"],[0.3333333333333333,\"#9c179e\"],[0.4444444444444444,\"#bd3786\"],[0.5555555555555556,\"#d8576b\"],[0.6666666666666666,\"#ed7953\"],[0.7777777777777778,\"#fb9f3a\"],[0.8888888888888888,\"#fdca26\"],[1.0,\"#f0f921\"]]}],\"choropleth\":[{\"type\":\"choropleth\",\"colorbar\":{\"outlinewidth\":0,\"ticks\":\"\"}}],\"histogram2d\":[{\"type\":\"histogram2d\",\"colorbar\":{\"outlinewidth\":0,\"ticks\":\"\"},\"colorscale\":[[0.0,\"#0d0887\"],[0.1111111111111111,\"#46039f\"],[0.2222222222222222,\"#7201a8\"],[0.3333333333333333,\"#9c179e\"],[0.4444444444444444,\"#bd3786\"],[0.5555555555555556,\"#d8576b\"],[0.6666666666666666,\"#ed7953\"],[0.7777777777777778,\"#fb9f3a\"],[0.8888888888888888,\"#fdca26\"],[1.0,\"#f0f921\"]]}],\"heatmap\":[{\"type\":\"heatmap\",\"colorbar\":{\"outlinewidth\":0,\"ticks\":\"\"},\"colorscale\":[[0.0,\"#0d0887\"],[0.1111111111111111,\"#46039f\"],[0.2222222222222222,\"#7201a8\"],[0.3333333333333333,\"#9c179e\"],[0.4444444444444444,\"#bd3786\"],[0.5555555555555556,\"#d8576b\"],[0.6666666666666666,\"#ed7953\"],[0.7777777777777778,\"#fb9f3a\"],[0.8888888888888888,\"#fdca26\"],[1.0,\"#f0f921\"]]}],\"heatmapgl\":[{\"type\":\"heatmapgl\",\"colorbar\":{\"outlinewidth\":0,\"ticks\":\"\"},\"colorscale\":[[0.0,\"#0d0887\"],[0.1111111111111111,\"#46039f\"],[0.2222222222222222,\"#7201a8\"],[0.3333333333333333,\"#9c179e\"],[0.4444444444444444,\"#bd3786\"],[0.5555555555555556,\"#d8576b\"],[0.6666666666666666,\"#ed7953\"],[0.7777777777777778,\"#fb9f3a\"],[0.8888888888888888,\"#fdca26\"],[1.0,\"#f0f921\"]]}],\"contourcarpet\":[{\"type\":\"contourcarpet\",\"colorbar\":{\"outlinewidth\":0,\"ticks\":\"\"}}],\"contour\":[{\"type\":\"contour\",\"colorbar\":{\"outlinewidth\":0,\"ticks\":\"\"},\"colorscale\":[[0.0,\"#0d0887\"],[0.1111111111111111,\"#46039f\"],[0.2222222222222222,\"#7201a8\"],[0.3333333333333333,\"#9c179e\"],[0.4444444444444444,\"#bd3786\"],[0.5555555555555556,\"#d8576b\"],[0.6666666666666666,\"#ed7953\"],[0.7777777777777778,\"#fb9f3a\"],[0.8888888888888888,\"#fdca26\"],[1.0,\"#f0f921\"]]}],\"surface\":[{\"type\":\"surface\",\"colorbar\":{\"outlinewidth\":0,\"ticks\":\"\"},\"colorscale\":[[0.0,\"#0d0887\"],[0.1111111111111111,\"#46039f\"],[0.2222222222222222,\"#7201a8\"],[0.3333333333333333,\"#9c179e\"],[0.4444444444444444,\"#bd3786\"],[0.5555555555555556,\"#d8576b\"],[0.6666666666666666,\"#ed7953\"],[0.7777777777777778,\"#fb9f3a\"],[0.8888888888888888,\"#fdca26\"],[1.0,\"#f0f921\"]]}],\"mesh3d\":[{\"type\":\"mesh3d\",\"colorbar\":{\"outlinewidth\":0,\"ticks\":\"\"}}],\"scatter\":[{\"fillpattern\":{\"fillmode\":\"overlay\",\"size\":10,\"solidity\":0.2},\"type\":\"scatter\"}],\"parcoords\":[{\"type\":\"parcoords\",\"line\":{\"colorbar\":{\"outlinewidth\":0,\"ticks\":\"\"}}}],\"scatterpolargl\":[{\"type\":\"scatterpolargl\",\"marker\":{\"colorbar\":{\"outlinewidth\":0,\"ticks\":\"\"}}}],\"bar\":[{\"error_x\":{\"color\":\"#2a3f5f\"},\"error_y\":{\"color\":\"#2a3f5f\"},\"marker\":{\"line\":{\"color\":\"#E5ECF6\",\"width\":0.5},\"pattern\":{\"fillmode\":\"overlay\",\"size\":10,\"solidity\":0.2}},\"type\":\"bar\"}],\"scattergeo\":[{\"type\":\"scattergeo\",\"marker\":{\"colorbar\":{\"outlinewidth\":0,\"ticks\":\"\"}}}],\"scatterpolar\":[{\"type\":\"scatterpolar\",\"marker\":{\"colorbar\":{\"outlinewidth\":0,\"ticks\":\"\"}}}],\"histogram\":[{\"marker\":{\"pattern\":{\"fillmode\":\"overlay\",\"size\":10,\"solidity\":0.2}},\"type\":\"histogram\"}],\"scattergl\":[{\"type\":\"scattergl\",\"marker\":{\"colorbar\":{\"outlinewidth\":0,\"ticks\":\"\"}}}],\"scatter3d\":[{\"type\":\"scatter3d\",\"line\":{\"colorbar\":{\"outlinewidth\":0,\"ticks\":\"\"}},\"marker\":{\"colorbar\":{\"outlinewidth\":0,\"ticks\":\"\"}}}],\"scattermapbox\":[{\"type\":\"scattermapbox\",\"marker\":{\"colorbar\":{\"outlinewidth\":0,\"ticks\":\"\"}}}],\"scatterternary\":[{\"type\":\"scatterternary\",\"marker\":{\"colorbar\":{\"outlinewidth\":0,\"ticks\":\"\"}}}],\"scattercarpet\":[{\"type\":\"scattercarpet\",\"marker\":{\"colorbar\":{\"outlinewidth\":0,\"ticks\":\"\"}}}],\"carpet\":[{\"aaxis\":{\"endlinecolor\":\"#2a3f5f\",\"gridcolor\":\"white\",\"linecolor\":\"white\",\"minorgridcolor\":\"white\",\"startlinecolor\":\"#2a3f5f\"},\"baxis\":{\"endlinecolor\":\"#2a3f5f\",\"gridcolor\":\"white\",\"linecolor\":\"white\",\"minorgridcolor\":\"white\",\"startlinecolor\":\"#2a3f5f\"},\"type\":\"carpet\"}],\"table\":[{\"cells\":{\"fill\":{\"color\":\"#EBF0F8\"},\"line\":{\"color\":\"white\"}},\"header\":{\"fill\":{\"color\":\"#C8D4E3\"},\"line\":{\"color\":\"white\"}},\"type\":\"table\"}],\"barpolar\":[{\"marker\":{\"line\":{\"color\":\"#E5ECF6\",\"width\":0.5},\"pattern\":{\"fillmode\":\"overlay\",\"size\":10,\"solidity\":0.2}},\"type\":\"barpolar\"}],\"pie\":[{\"automargin\":true,\"type\":\"pie\"}]},\"layout\":{\"autotypenumbers\":\"strict\",\"colorway\":[\"#636efa\",\"#EF553B\",\"#00cc96\",\"#ab63fa\",\"#FFA15A\",\"#19d3f3\",\"#FF6692\",\"#B6E880\",\"#FF97FF\",\"#FECB52\"],\"font\":{\"color\":\"#2a3f5f\"},\"hovermode\":\"closest\",\"hoverlabel\":{\"align\":\"left\"},\"paper_bgcolor\":\"white\",\"plot_bgcolor\":\"#E5ECF6\",\"polar\":{\"bgcolor\":\"#E5ECF6\",\"angularaxis\":{\"gridcolor\":\"white\",\"linecolor\":\"white\",\"ticks\":\"\"},\"radialaxis\":{\"gridcolor\":\"white\",\"linecolor\":\"white\",\"ticks\":\"\"}},\"ternary\":{\"bgcolor\":\"#E5ECF6\",\"aaxis\":{\"gridcolor\":\"white\",\"linecolor\":\"white\",\"ticks\":\"\"},\"baxis\":{\"gridcolor\":\"white\",\"linecolor\":\"white\",\"ticks\":\"\"},\"caxis\":{\"gridcolor\":\"white\",\"linecolor\":\"white\",\"ticks\":\"\"}},\"coloraxis\":{\"colorbar\":{\"outlinewidth\":0,\"ticks\":\"\"}},\"colorscale\":{\"sequential\":[[0.0,\"#0d0887\"],[0.1111111111111111,\"#46039f\"],[0.2222222222222222,\"#7201a8\"],[0.3333333333333333,\"#9c179e\"],[0.4444444444444444,\"#bd3786\"],[0.5555555555555556,\"#d8576b\"],[0.6666666666666666,\"#ed7953\"],[0.7777777777777778,\"#fb9f3a\"],[0.8888888888888888,\"#fdca26\"],[1.0,\"#f0f921\"]],\"sequentialminus\":[[0.0,\"#0d0887\"],[0.1111111111111111,\"#46039f\"],[0.2222222222222222,\"#7201a8\"],[0.3333333333333333,\"#9c179e\"],[0.4444444444444444,\"#bd3786\"],[0.5555555555555556,\"#d8576b\"],[0.6666666666666666,\"#ed7953\"],[0.7777777777777778,\"#fb9f3a\"],[0.8888888888888888,\"#fdca26\"],[1.0,\"#f0f921\"]],\"diverging\":[[0,\"#8e0152\"],[0.1,\"#c51b7d\"],[0.2,\"#de77ae\"],[0.3,\"#f1b6da\"],[0.4,\"#fde0ef\"],[0.5,\"#f7f7f7\"],[0.6,\"#e6f5d0\"],[0.7,\"#b8e186\"],[0.8,\"#7fbc41\"],[0.9,\"#4d9221\"],[1,\"#276419\"]]},\"xaxis\":{\"gridcolor\":\"white\",\"linecolor\":\"white\",\"ticks\":\"\",\"title\":{\"standoff\":15},\"zerolinecolor\":\"white\",\"automargin\":true,\"zerolinewidth\":2},\"yaxis\":{\"gridcolor\":\"white\",\"linecolor\":\"white\",\"ticks\":\"\",\"title\":{\"standoff\":15},\"zerolinecolor\":\"white\",\"automargin\":true,\"zerolinewidth\":2},\"scene\":{\"xaxis\":{\"backgroundcolor\":\"#E5ECF6\",\"gridcolor\":\"white\",\"linecolor\":\"white\",\"showbackground\":true,\"ticks\":\"\",\"zerolinecolor\":\"white\",\"gridwidth\":2},\"yaxis\":{\"backgroundcolor\":\"#E5ECF6\",\"gridcolor\":\"white\",\"linecolor\":\"white\",\"showbackground\":true,\"ticks\":\"\",\"zerolinecolor\":\"white\",\"gridwidth\":2},\"zaxis\":{\"backgroundcolor\":\"#E5ECF6\",\"gridcolor\":\"white\",\"linecolor\":\"white\",\"showbackground\":true,\"ticks\":\"\",\"zerolinecolor\":\"white\",\"gridwidth\":2}},\"shapedefaults\":{\"line\":{\"color\":\"#2a3f5f\"}},\"annotationdefaults\":{\"arrowcolor\":\"#2a3f5f\",\"arrowhead\":0,\"arrowwidth\":1},\"geo\":{\"bgcolor\":\"white\",\"landcolor\":\"#E5ECF6\",\"subunitcolor\":\"white\",\"showland\":true,\"showlakes\":true,\"lakecolor\":\"white\"},\"title\":{\"x\":0.05},\"mapbox\":{\"style\":\"light\"}}},\"xaxis\":{\"title\":{\"text\":\"Query scan pid\"},\"dtick\":1},\"title\":{\"text\":\"smokeage\"},\"yaxis\":{\"title\":{\"text\":\"smokeage\"}},\"width\":1500,\"height\":500},                        {\"responsive\": true}                    ).then(function(){\n",
       "                            \n",
       "var gd = document.getElementById('c8e53cdc-5dc0-4351-aa9d-609315fbafbf');\n",
       "var x = new MutationObserver(function (mutations, observer) {{\n",
       "        var display = window.getComputedStyle(gd).display;\n",
       "        if (!display || display === 'none') {{\n",
       "            console.log([gd, 'removed!']);\n",
       "            Plotly.purge(gd);\n",
       "            observer.disconnect();\n",
       "        }}\n",
       "}});\n",
       "\n",
       "// Listen for the removal of the full notebook cells\n",
       "var notebookContainer = gd.closest('#notebook-container');\n",
       "if (notebookContainer) {{\n",
       "    x.observe(notebookContainer, {childList: true});\n",
       "}}\n",
       "\n",
       "// Listen for the clearing of the current output cell\n",
       "var outputEl = gd.closest('.output');\n",
       "if (outputEl) {{\n",
       "    x.observe(outputEl, {childList: true});\n",
       "}}\n",
       "\n",
       "                        })                };                });            </script>        </div>"
      ]
     },
     "metadata": {},
     "output_type": "display_data"
    }
   ],
   "source": [
    "visualize.quantitative_(col=\"smokeage\", \n",
    "                        pids=pids)\n",
    "\n"
   ]
  },
  {
   "cell_type": "code",
   "execution_count": 9,
   "id": "b7b45447",
   "metadata": {},
   "outputs": [
    {
     "data": {
      "application/vnd.plotly.v1+json": {
       "config": {
        "plotlyServerURL": "https://plot.ly"
       },
       "data": [
        {
         "name": "gender:1",
         "showlegend": false,
         "type": "bar",
         "x": [
          "102266",
          "103581",
          "103581",
          "101224",
          "103992",
          "100550",
          "101165",
          "101165",
          "104406",
          "104406",
          "104406",
          "101057",
          "102355",
          "102355",
          "101190",
          "100680",
          "102892",
          "102541",
          "102541",
          "102537",
          "103930",
          "102320",
          "102487",
          "104744",
          "100374",
          "102216",
          "102216",
          "101323",
          "102502",
          "100951",
          "103291",
          "100519",
          "104917",
          "104917",
          "104769",
          "102803",
          "102627",
          "102464",
          "102511",
          "100004",
          "103676",
          "101144",
          "101144",
          "100973",
          "100328",
          "102485",
          "100512",
          "104527",
          "104527",
          "101824",
          "102918",
          "102918",
          "101427",
          "101427",
          "101638",
          "102865",
          "100194",
          "104814",
          "100221",
          "100221",
          "100159",
          "100673",
          "104816",
          "104321",
          "104321",
          "102827",
          "104285",
          "104285",
          "102218",
          "103416",
          "101444",
          "103037",
          "103037",
          "104026",
          "103250",
          "103250",
          "101136",
          "100188",
          "101019",
          "100231",
          "100231",
          "100214",
          "103131",
          "101973",
          "101973",
          "101973",
          "104365",
          "104278",
          "104643",
          "102305",
          "102305",
          "101081",
          "100470",
          "100470",
          "102930",
          "102930",
          "101289",
          "104460",
          "104460",
          "103237"
         ],
         "xaxis": "x",
         "y": [
          1,
          1,
          1.2,
          1,
          0.8,
          0.4,
          0.4,
          0.2,
          1.2,
          1.2,
          1.2,
          1.2,
          0,
          0,
          1.2,
          0,
          1,
          0,
          0,
          1.2,
          0.2,
          1.2,
          1.2,
          1.2,
          1.2,
          1,
          1.2,
          1.2,
          0.4,
          1,
          1,
          0.4,
          1.2,
          0.6,
          0.6,
          0,
          1.2,
          0.2,
          1.2,
          1.2,
          0.6,
          1,
          1,
          1.2,
          1.2,
          0,
          0,
          0.4,
          0.6,
          1.2,
          0.2,
          0,
          1.2,
          1.2,
          0,
          0,
          1,
          1.2,
          0.2,
          0.4,
          0,
          0.2,
          1.2,
          0.4,
          0.2,
          0.4,
          1.2,
          1,
          0,
          0.8,
          1.2,
          1.2,
          1.2,
          1.2,
          1.2,
          1,
          0,
          1.2,
          1.2,
          0.4,
          0.2,
          1.2,
          0,
          0.8,
          1.2,
          1.2,
          1,
          0.8,
          1.2,
          0.4,
          0.4,
          1.2,
          1.2,
          0.4,
          0.4,
          0.2,
          0.8,
          1,
          1.2,
          1.2
         ],
         "yaxis": "y"
        },
        {
         "name": "diaghype:0.0",
         "showlegend": false,
         "type": "bar",
         "x": [
          "102266",
          "103581",
          "103581",
          "101224",
          "103992",
          "100550",
          "101165",
          "101165",
          "104406",
          "104406",
          "104406",
          "101057",
          "102355",
          "102355",
          "101190",
          "100680",
          "102892",
          "102541",
          "102541",
          "102537",
          "103930",
          "102320",
          "102487",
          "104744",
          "100374",
          "102216",
          "102216",
          "101323",
          "102502",
          "100951",
          "103291",
          "100519",
          "104917",
          "104917",
          "104769",
          "102803",
          "102627",
          "102464",
          "102511",
          "100004",
          "103676",
          "101144",
          "101144",
          "100973",
          "100328",
          "102485",
          "100512",
          "104527",
          "104527",
          "101824",
          "102918",
          "102918",
          "101427",
          "101427",
          "101638",
          "102865",
          "100194",
          "104814",
          "100221",
          "100221",
          "100159",
          "100673",
          "104816",
          "104321",
          "104321",
          "102827",
          "104285",
          "104285",
          "102218",
          "103416",
          "101444",
          "103037",
          "103037",
          "104026",
          "103250",
          "103250",
          "101136",
          "100188",
          "101019",
          "100231",
          "100231",
          "100214",
          "103131",
          "101973",
          "101973",
          "101973",
          "104365",
          "104278",
          "104643",
          "102305",
          "102305",
          "101081",
          "100470",
          "100470",
          "102930",
          "102930",
          "101289",
          "104460",
          "104460",
          "103237"
         ],
         "xaxis": "x2",
         "y": [
          0.2,
          0.6,
          0.8,
          1,
          0.8,
          0.6,
          0.4,
          0.4,
          0.4,
          0.4,
          0.2,
          0.4,
          0.8,
          0.6,
          0.8,
          1,
          1,
          0.4,
          1,
          0.4,
          1,
          1.2,
          0.2,
          0.8,
          0.4,
          0.6,
          0.6,
          0.4,
          1,
          1.2,
          1.2,
          0.6,
          0.8,
          0.2,
          0.6,
          1.2,
          1.2,
          1,
          0.8,
          0.6,
          1,
          1,
          1.2,
          0.8,
          0.4,
          1.2,
          1,
          1,
          1.2,
          0.8,
          0.8,
          0.8,
          0.2,
          0.2,
          1.2,
          1,
          0.8,
          0.6,
          0.4,
          0.6,
          0.8,
          1,
          0.2,
          1.2,
          1,
          0.8,
          1.2,
          1,
          1.2,
          1,
          0.2,
          1,
          1,
          1.2,
          0.6,
          1,
          1,
          1,
          0.4,
          1.2,
          0.8,
          0.8,
          1,
          0.6,
          0.6,
          0.6,
          1,
          0.6,
          1.2,
          0.8,
          0.4,
          0.6,
          0.8,
          1.2,
          0.6,
          0.6,
          1.2,
          1,
          1,
          0.8
         ],
         "yaxis": "y2"
        }
       ],
       "layout": {
        "height": 500,
        "template": {
         "data": {
          "bar": [
           {
            "error_x": {
             "color": "#2a3f5f"
            },
            "error_y": {
             "color": "#2a3f5f"
            },
            "marker": {
             "line": {
              "color": "#E5ECF6",
              "width": 0.5
             },
             "pattern": {
              "fillmode": "overlay",
              "size": 10,
              "solidity": 0.2
             }
            },
            "type": "bar"
           }
          ],
          "barpolar": [
           {
            "marker": {
             "line": {
              "color": "#E5ECF6",
              "width": 0.5
             },
             "pattern": {
              "fillmode": "overlay",
              "size": 10,
              "solidity": 0.2
             }
            },
            "type": "barpolar"
           }
          ],
          "carpet": [
           {
            "aaxis": {
             "endlinecolor": "#2a3f5f",
             "gridcolor": "white",
             "linecolor": "white",
             "minorgridcolor": "white",
             "startlinecolor": "#2a3f5f"
            },
            "baxis": {
             "endlinecolor": "#2a3f5f",
             "gridcolor": "white",
             "linecolor": "white",
             "minorgridcolor": "white",
             "startlinecolor": "#2a3f5f"
            },
            "type": "carpet"
           }
          ],
          "choropleth": [
           {
            "colorbar": {
             "outlinewidth": 0,
             "ticks": ""
            },
            "type": "choropleth"
           }
          ],
          "contour": [
           {
            "colorbar": {
             "outlinewidth": 0,
             "ticks": ""
            },
            "colorscale": [
             [
              0,
              "#0d0887"
             ],
             [
              0.1111111111111111,
              "#46039f"
             ],
             [
              0.2222222222222222,
              "#7201a8"
             ],
             [
              0.3333333333333333,
              "#9c179e"
             ],
             [
              0.4444444444444444,
              "#bd3786"
             ],
             [
              0.5555555555555556,
              "#d8576b"
             ],
             [
              0.6666666666666666,
              "#ed7953"
             ],
             [
              0.7777777777777778,
              "#fb9f3a"
             ],
             [
              0.8888888888888888,
              "#fdca26"
             ],
             [
              1,
              "#f0f921"
             ]
            ],
            "type": "contour"
           }
          ],
          "contourcarpet": [
           {
            "colorbar": {
             "outlinewidth": 0,
             "ticks": ""
            },
            "type": "contourcarpet"
           }
          ],
          "heatmap": [
           {
            "colorbar": {
             "outlinewidth": 0,
             "ticks": ""
            },
            "colorscale": [
             [
              0,
              "#0d0887"
             ],
             [
              0.1111111111111111,
              "#46039f"
             ],
             [
              0.2222222222222222,
              "#7201a8"
             ],
             [
              0.3333333333333333,
              "#9c179e"
             ],
             [
              0.4444444444444444,
              "#bd3786"
             ],
             [
              0.5555555555555556,
              "#d8576b"
             ],
             [
              0.6666666666666666,
              "#ed7953"
             ],
             [
              0.7777777777777778,
              "#fb9f3a"
             ],
             [
              0.8888888888888888,
              "#fdca26"
             ],
             [
              1,
              "#f0f921"
             ]
            ],
            "type": "heatmap"
           }
          ],
          "heatmapgl": [
           {
            "colorbar": {
             "outlinewidth": 0,
             "ticks": ""
            },
            "colorscale": [
             [
              0,
              "#0d0887"
             ],
             [
              0.1111111111111111,
              "#46039f"
             ],
             [
              0.2222222222222222,
              "#7201a8"
             ],
             [
              0.3333333333333333,
              "#9c179e"
             ],
             [
              0.4444444444444444,
              "#bd3786"
             ],
             [
              0.5555555555555556,
              "#d8576b"
             ],
             [
              0.6666666666666666,
              "#ed7953"
             ],
             [
              0.7777777777777778,
              "#fb9f3a"
             ],
             [
              0.8888888888888888,
              "#fdca26"
             ],
             [
              1,
              "#f0f921"
             ]
            ],
            "type": "heatmapgl"
           }
          ],
          "histogram": [
           {
            "marker": {
             "pattern": {
              "fillmode": "overlay",
              "size": 10,
              "solidity": 0.2
             }
            },
            "type": "histogram"
           }
          ],
          "histogram2d": [
           {
            "colorbar": {
             "outlinewidth": 0,
             "ticks": ""
            },
            "colorscale": [
             [
              0,
              "#0d0887"
             ],
             [
              0.1111111111111111,
              "#46039f"
             ],
             [
              0.2222222222222222,
              "#7201a8"
             ],
             [
              0.3333333333333333,
              "#9c179e"
             ],
             [
              0.4444444444444444,
              "#bd3786"
             ],
             [
              0.5555555555555556,
              "#d8576b"
             ],
             [
              0.6666666666666666,
              "#ed7953"
             ],
             [
              0.7777777777777778,
              "#fb9f3a"
             ],
             [
              0.8888888888888888,
              "#fdca26"
             ],
             [
              1,
              "#f0f921"
             ]
            ],
            "type": "histogram2d"
           }
          ],
          "histogram2dcontour": [
           {
            "colorbar": {
             "outlinewidth": 0,
             "ticks": ""
            },
            "colorscale": [
             [
              0,
              "#0d0887"
             ],
             [
              0.1111111111111111,
              "#46039f"
             ],
             [
              0.2222222222222222,
              "#7201a8"
             ],
             [
              0.3333333333333333,
              "#9c179e"
             ],
             [
              0.4444444444444444,
              "#bd3786"
             ],
             [
              0.5555555555555556,
              "#d8576b"
             ],
             [
              0.6666666666666666,
              "#ed7953"
             ],
             [
              0.7777777777777778,
              "#fb9f3a"
             ],
             [
              0.8888888888888888,
              "#fdca26"
             ],
             [
              1,
              "#f0f921"
             ]
            ],
            "type": "histogram2dcontour"
           }
          ],
          "mesh3d": [
           {
            "colorbar": {
             "outlinewidth": 0,
             "ticks": ""
            },
            "type": "mesh3d"
           }
          ],
          "parcoords": [
           {
            "line": {
             "colorbar": {
              "outlinewidth": 0,
              "ticks": ""
             }
            },
            "type": "parcoords"
           }
          ],
          "pie": [
           {
            "automargin": true,
            "type": "pie"
           }
          ],
          "scatter": [
           {
            "fillpattern": {
             "fillmode": "overlay",
             "size": 10,
             "solidity": 0.2
            },
            "type": "scatter"
           }
          ],
          "scatter3d": [
           {
            "line": {
             "colorbar": {
              "outlinewidth": 0,
              "ticks": ""
             }
            },
            "marker": {
             "colorbar": {
              "outlinewidth": 0,
              "ticks": ""
             }
            },
            "type": "scatter3d"
           }
          ],
          "scattercarpet": [
           {
            "marker": {
             "colorbar": {
              "outlinewidth": 0,
              "ticks": ""
             }
            },
            "type": "scattercarpet"
           }
          ],
          "scattergeo": [
           {
            "marker": {
             "colorbar": {
              "outlinewidth": 0,
              "ticks": ""
             }
            },
            "type": "scattergeo"
           }
          ],
          "scattergl": [
           {
            "marker": {
             "colorbar": {
              "outlinewidth": 0,
              "ticks": ""
             }
            },
            "type": "scattergl"
           }
          ],
          "scattermapbox": [
           {
            "marker": {
             "colorbar": {
              "outlinewidth": 0,
              "ticks": ""
             }
            },
            "type": "scattermapbox"
           }
          ],
          "scatterpolar": [
           {
            "marker": {
             "colorbar": {
              "outlinewidth": 0,
              "ticks": ""
             }
            },
            "type": "scatterpolar"
           }
          ],
          "scatterpolargl": [
           {
            "marker": {
             "colorbar": {
              "outlinewidth": 0,
              "ticks": ""
             }
            },
            "type": "scatterpolargl"
           }
          ],
          "scatterternary": [
           {
            "marker": {
             "colorbar": {
              "outlinewidth": 0,
              "ticks": ""
             }
            },
            "type": "scatterternary"
           }
          ],
          "surface": [
           {
            "colorbar": {
             "outlinewidth": 0,
             "ticks": ""
            },
            "colorscale": [
             [
              0,
              "#0d0887"
             ],
             [
              0.1111111111111111,
              "#46039f"
             ],
             [
              0.2222222222222222,
              "#7201a8"
             ],
             [
              0.3333333333333333,
              "#9c179e"
             ],
             [
              0.4444444444444444,
              "#bd3786"
             ],
             [
              0.5555555555555556,
              "#d8576b"
             ],
             [
              0.6666666666666666,
              "#ed7953"
             ],
             [
              0.7777777777777778,
              "#fb9f3a"
             ],
             [
              0.8888888888888888,
              "#fdca26"
             ],
             [
              1,
              "#f0f921"
             ]
            ],
            "type": "surface"
           }
          ],
          "table": [
           {
            "cells": {
             "fill": {
              "color": "#EBF0F8"
             },
             "line": {
              "color": "white"
             }
            },
            "header": {
             "fill": {
              "color": "#C8D4E3"
             },
             "line": {
              "color": "white"
             }
            },
            "type": "table"
           }
          ]
         },
         "layout": {
          "annotationdefaults": {
           "arrowcolor": "#2a3f5f",
           "arrowhead": 0,
           "arrowwidth": 1
          },
          "autotypenumbers": "strict",
          "coloraxis": {
           "colorbar": {
            "outlinewidth": 0,
            "ticks": ""
           }
          },
          "colorscale": {
           "diverging": [
            [
             0,
             "#8e0152"
            ],
            [
             0.1,
             "#c51b7d"
            ],
            [
             0.2,
             "#de77ae"
            ],
            [
             0.3,
             "#f1b6da"
            ],
            [
             0.4,
             "#fde0ef"
            ],
            [
             0.5,
             "#f7f7f7"
            ],
            [
             0.6,
             "#e6f5d0"
            ],
            [
             0.7,
             "#b8e186"
            ],
            [
             0.8,
             "#7fbc41"
            ],
            [
             0.9,
             "#4d9221"
            ],
            [
             1,
             "#276419"
            ]
           ],
           "sequential": [
            [
             0,
             "#0d0887"
            ],
            [
             0.1111111111111111,
             "#46039f"
            ],
            [
             0.2222222222222222,
             "#7201a8"
            ],
            [
             0.3333333333333333,
             "#9c179e"
            ],
            [
             0.4444444444444444,
             "#bd3786"
            ],
            [
             0.5555555555555556,
             "#d8576b"
            ],
            [
             0.6666666666666666,
             "#ed7953"
            ],
            [
             0.7777777777777778,
             "#fb9f3a"
            ],
            [
             0.8888888888888888,
             "#fdca26"
            ],
            [
             1,
             "#f0f921"
            ]
           ],
           "sequentialminus": [
            [
             0,
             "#0d0887"
            ],
            [
             0.1111111111111111,
             "#46039f"
            ],
            [
             0.2222222222222222,
             "#7201a8"
            ],
            [
             0.3333333333333333,
             "#9c179e"
            ],
            [
             0.4444444444444444,
             "#bd3786"
            ],
            [
             0.5555555555555556,
             "#d8576b"
            ],
            [
             0.6666666666666666,
             "#ed7953"
            ],
            [
             0.7777777777777778,
             "#fb9f3a"
            ],
            [
             0.8888888888888888,
             "#fdca26"
            ],
            [
             1,
             "#f0f921"
            ]
           ]
          },
          "colorway": [
           "#636efa",
           "#EF553B",
           "#00cc96",
           "#ab63fa",
           "#FFA15A",
           "#19d3f3",
           "#FF6692",
           "#B6E880",
           "#FF97FF",
           "#FECB52"
          ],
          "font": {
           "color": "#2a3f5f"
          },
          "geo": {
           "bgcolor": "white",
           "lakecolor": "white",
           "landcolor": "#E5ECF6",
           "showlakes": true,
           "showland": true,
           "subunitcolor": "white"
          },
          "hoverlabel": {
           "align": "left"
          },
          "hovermode": "closest",
          "mapbox": {
           "style": "light"
          },
          "paper_bgcolor": "white",
          "plot_bgcolor": "#E5ECF6",
          "polar": {
           "angularaxis": {
            "gridcolor": "white",
            "linecolor": "white",
            "ticks": ""
           },
           "bgcolor": "#E5ECF6",
           "radialaxis": {
            "gridcolor": "white",
            "linecolor": "white",
            "ticks": ""
           }
          },
          "scene": {
           "xaxis": {
            "backgroundcolor": "#E5ECF6",
            "gridcolor": "white",
            "gridwidth": 2,
            "linecolor": "white",
            "showbackground": true,
            "ticks": "",
            "zerolinecolor": "white"
           },
           "yaxis": {
            "backgroundcolor": "#E5ECF6",
            "gridcolor": "white",
            "gridwidth": 2,
            "linecolor": "white",
            "showbackground": true,
            "ticks": "",
            "zerolinecolor": "white"
           },
           "zaxis": {
            "backgroundcolor": "#E5ECF6",
            "gridcolor": "white",
            "gridwidth": 2,
            "linecolor": "white",
            "showbackground": true,
            "ticks": "",
            "zerolinecolor": "white"
           }
          },
          "shapedefaults": {
           "line": {
            "color": "#2a3f5f"
           }
          },
          "ternary": {
           "aaxis": {
            "gridcolor": "white",
            "linecolor": "white",
            "ticks": ""
           },
           "baxis": {
            "gridcolor": "white",
            "linecolor": "white",
            "ticks": ""
           },
           "bgcolor": "#E5ECF6",
           "caxis": {
            "gridcolor": "white",
            "linecolor": "white",
            "ticks": ""
           }
          },
          "title": {
           "x": 0.05
          },
          "xaxis": {
           "automargin": true,
           "gridcolor": "white",
           "linecolor": "white",
           "ticks": "",
           "title": {
            "standoff": 15
           },
           "zerolinecolor": "white",
           "zerolinewidth": 2
          },
          "yaxis": {
           "automargin": true,
           "gridcolor": "white",
           "linecolor": "white",
           "ticks": "",
           "title": {
            "standoff": 15
           },
           "zerolinecolor": "white",
           "zerolinewidth": 2
          }
         }
        },
        "width": 1500,
        "xaxis": {
         "anchor": "y",
         "domain": [
          0,
          1
         ],
         "dtick": 1,
         "matches": "x2",
         "showticklabels": false,
         "title": {
          "text": "Query scan pid"
         }
        },
        "xaxis2": {
         "anchor": "y2",
         "domain": [
          0,
          1
         ],
         "dtick": 1,
         "title": {
          "text": "Query scan pid"
         }
        },
        "yaxis": {
         "anchor": "x",
         "domain": [
          0.575,
          1
         ]
        },
        "yaxis2": {
         "anchor": "x2",
         "domain": [
          0,
          0.425
         ]
        }
       }
      },
      "text/html": [
       "<div>                            <div id=\"cbc50ef4-dc0f-41f9-9666-e8258654d908\" class=\"plotly-graph-div\" style=\"height:500px; width:1500px;\"></div>            <script type=\"text/javascript\">                require([\"plotly\"], function(Plotly) {                    window.PLOTLYENV=window.PLOTLYENV || {};                                    if (document.getElementById(\"cbc50ef4-dc0f-41f9-9666-e8258654d908\")) {                    Plotly.newPlot(                        \"cbc50ef4-dc0f-41f9-9666-e8258654d908\",                        [{\"name\":\"gender:1\",\"showlegend\":false,\"x\":[\"102266\",\"103581\",\"103581\",\"101224\",\"103992\",\"100550\",\"101165\",\"101165\",\"104406\",\"104406\",\"104406\",\"101057\",\"102355\",\"102355\",\"101190\",\"100680\",\"102892\",\"102541\",\"102541\",\"102537\",\"103930\",\"102320\",\"102487\",\"104744\",\"100374\",\"102216\",\"102216\",\"101323\",\"102502\",\"100951\",\"103291\",\"100519\",\"104917\",\"104917\",\"104769\",\"102803\",\"102627\",\"102464\",\"102511\",\"100004\",\"103676\",\"101144\",\"101144\",\"100973\",\"100328\",\"102485\",\"100512\",\"104527\",\"104527\",\"101824\",\"102918\",\"102918\",\"101427\",\"101427\",\"101638\",\"102865\",\"100194\",\"104814\",\"100221\",\"100221\",\"100159\",\"100673\",\"104816\",\"104321\",\"104321\",\"102827\",\"104285\",\"104285\",\"102218\",\"103416\",\"101444\",\"103037\",\"103037\",\"104026\",\"103250\",\"103250\",\"101136\",\"100188\",\"101019\",\"100231\",\"100231\",\"100214\",\"103131\",\"101973\",\"101973\",\"101973\",\"104365\",\"104278\",\"104643\",\"102305\",\"102305\",\"101081\",\"100470\",\"100470\",\"102930\",\"102930\",\"101289\",\"104460\",\"104460\",\"103237\"],\"y\":[1.0,1.0,1.2,1.0,0.8,0.4,0.4,0.2,1.2,1.2,1.2,1.2,0.0,0.0,1.2,0.0,1.0,0.0,0.0,1.2,0.2,1.2,1.2,1.2,1.2,1.0,1.2,1.2,0.4,1.0,1.0,0.4,1.2,0.6,0.6,0.0,1.2,0.2,1.2,1.2,0.6,1.0,1.0,1.2,1.2,0.0,0.0,0.4,0.6,1.2,0.2,0.0,1.2,1.2,0.0,0.0,1.0,1.2,0.2,0.4,0.0,0.2,1.2,0.4,0.2,0.4,1.2,1.0,0.0,0.8,1.2,1.2,1.2,1.2,1.2,1.0,0.0,1.2,1.2,0.4,0.2,1.2,0.0,0.8,1.2,1.2,1.0,0.8,1.2,0.4,0.4,1.2,1.2,0.4,0.4,0.2,0.8,1.0,1.2,1.2],\"type\":\"bar\",\"xaxis\":\"x\",\"yaxis\":\"y\"},{\"name\":\"diaghype:0.0\",\"showlegend\":false,\"x\":[\"102266\",\"103581\",\"103581\",\"101224\",\"103992\",\"100550\",\"101165\",\"101165\",\"104406\",\"104406\",\"104406\",\"101057\",\"102355\",\"102355\",\"101190\",\"100680\",\"102892\",\"102541\",\"102541\",\"102537\",\"103930\",\"102320\",\"102487\",\"104744\",\"100374\",\"102216\",\"102216\",\"101323\",\"102502\",\"100951\",\"103291\",\"100519\",\"104917\",\"104917\",\"104769\",\"102803\",\"102627\",\"102464\",\"102511\",\"100004\",\"103676\",\"101144\",\"101144\",\"100973\",\"100328\",\"102485\",\"100512\",\"104527\",\"104527\",\"101824\",\"102918\",\"102918\",\"101427\",\"101427\",\"101638\",\"102865\",\"100194\",\"104814\",\"100221\",\"100221\",\"100159\",\"100673\",\"104816\",\"104321\",\"104321\",\"102827\",\"104285\",\"104285\",\"102218\",\"103416\",\"101444\",\"103037\",\"103037\",\"104026\",\"103250\",\"103250\",\"101136\",\"100188\",\"101019\",\"100231\",\"100231\",\"100214\",\"103131\",\"101973\",\"101973\",\"101973\",\"104365\",\"104278\",\"104643\",\"102305\",\"102305\",\"101081\",\"100470\",\"100470\",\"102930\",\"102930\",\"101289\",\"104460\",\"104460\",\"103237\"],\"y\":[0.2,0.6,0.8,1.0,0.8,0.6,0.4,0.4,0.4,0.4,0.2,0.4,0.8,0.6,0.8,1.0,1.0,0.4,1.0,0.4,1.0,1.2,0.2,0.8,0.4,0.6,0.6,0.4,1.0,1.2,1.2,0.6,0.8,0.2,0.6,1.2,1.2,1.0,0.8,0.6,1.0,1.0,1.2,0.8,0.4,1.2,1.0,1.0,1.2,0.8,0.8,0.8,0.2,0.2,1.2,1.0,0.8,0.6,0.4,0.6,0.8,1.0,0.2,1.2,1.0,0.8,1.2,1.0,1.2,1.0,0.2,1.0,1.0,1.2,0.6,1.0,1.0,1.0,0.4,1.2,0.8,0.8,1.0,0.6,0.6,0.6,1.0,0.6,1.2,0.8,0.4,0.6,0.8,1.2,0.6,0.6,1.2,1.0,1.0,0.8],\"type\":\"bar\",\"xaxis\":\"x2\",\"yaxis\":\"y2\"}],                        {\"template\":{\"data\":{\"histogram2dcontour\":[{\"type\":\"histogram2dcontour\",\"colorbar\":{\"outlinewidth\":0,\"ticks\":\"\"},\"colorscale\":[[0.0,\"#0d0887\"],[0.1111111111111111,\"#46039f\"],[0.2222222222222222,\"#7201a8\"],[0.3333333333333333,\"#9c179e\"],[0.4444444444444444,\"#bd3786\"],[0.5555555555555556,\"#d8576b\"],[0.6666666666666666,\"#ed7953\"],[0.7777777777777778,\"#fb9f3a\"],[0.8888888888888888,\"#fdca26\"],[1.0,\"#f0f921\"]]}],\"choropleth\":[{\"type\":\"choropleth\",\"colorbar\":{\"outlinewidth\":0,\"ticks\":\"\"}}],\"histogram2d\":[{\"type\":\"histogram2d\",\"colorbar\":{\"outlinewidth\":0,\"ticks\":\"\"},\"colorscale\":[[0.0,\"#0d0887\"],[0.1111111111111111,\"#46039f\"],[0.2222222222222222,\"#7201a8\"],[0.3333333333333333,\"#9c179e\"],[0.4444444444444444,\"#bd3786\"],[0.5555555555555556,\"#d8576b\"],[0.6666666666666666,\"#ed7953\"],[0.7777777777777778,\"#fb9f3a\"],[0.8888888888888888,\"#fdca26\"],[1.0,\"#f0f921\"]]}],\"heatmap\":[{\"type\":\"heatmap\",\"colorbar\":{\"outlinewidth\":0,\"ticks\":\"\"},\"colorscale\":[[0.0,\"#0d0887\"],[0.1111111111111111,\"#46039f\"],[0.2222222222222222,\"#7201a8\"],[0.3333333333333333,\"#9c179e\"],[0.4444444444444444,\"#bd3786\"],[0.5555555555555556,\"#d8576b\"],[0.6666666666666666,\"#ed7953\"],[0.7777777777777778,\"#fb9f3a\"],[0.8888888888888888,\"#fdca26\"],[1.0,\"#f0f921\"]]}],\"heatmapgl\":[{\"type\":\"heatmapgl\",\"colorbar\":{\"outlinewidth\":0,\"ticks\":\"\"},\"colorscale\":[[0.0,\"#0d0887\"],[0.1111111111111111,\"#46039f\"],[0.2222222222222222,\"#7201a8\"],[0.3333333333333333,\"#9c179e\"],[0.4444444444444444,\"#bd3786\"],[0.5555555555555556,\"#d8576b\"],[0.6666666666666666,\"#ed7953\"],[0.7777777777777778,\"#fb9f3a\"],[0.8888888888888888,\"#fdca26\"],[1.0,\"#f0f921\"]]}],\"contourcarpet\":[{\"type\":\"contourcarpet\",\"colorbar\":{\"outlinewidth\":0,\"ticks\":\"\"}}],\"contour\":[{\"type\":\"contour\",\"colorbar\":{\"outlinewidth\":0,\"ticks\":\"\"},\"colorscale\":[[0.0,\"#0d0887\"],[0.1111111111111111,\"#46039f\"],[0.2222222222222222,\"#7201a8\"],[0.3333333333333333,\"#9c179e\"],[0.4444444444444444,\"#bd3786\"],[0.5555555555555556,\"#d8576b\"],[0.6666666666666666,\"#ed7953\"],[0.7777777777777778,\"#fb9f3a\"],[0.8888888888888888,\"#fdca26\"],[1.0,\"#f0f921\"]]}],\"surface\":[{\"type\":\"surface\",\"colorbar\":{\"outlinewidth\":0,\"ticks\":\"\"},\"colorscale\":[[0.0,\"#0d0887\"],[0.1111111111111111,\"#46039f\"],[0.2222222222222222,\"#7201a8\"],[0.3333333333333333,\"#9c179e\"],[0.4444444444444444,\"#bd3786\"],[0.5555555555555556,\"#d8576b\"],[0.6666666666666666,\"#ed7953\"],[0.7777777777777778,\"#fb9f3a\"],[0.8888888888888888,\"#fdca26\"],[1.0,\"#f0f921\"]]}],\"mesh3d\":[{\"type\":\"mesh3d\",\"colorbar\":{\"outlinewidth\":0,\"ticks\":\"\"}}],\"scatter\":[{\"fillpattern\":{\"fillmode\":\"overlay\",\"size\":10,\"solidity\":0.2},\"type\":\"scatter\"}],\"parcoords\":[{\"type\":\"parcoords\",\"line\":{\"colorbar\":{\"outlinewidth\":0,\"ticks\":\"\"}}}],\"scatterpolargl\":[{\"type\":\"scatterpolargl\",\"marker\":{\"colorbar\":{\"outlinewidth\":0,\"ticks\":\"\"}}}],\"bar\":[{\"error_x\":{\"color\":\"#2a3f5f\"},\"error_y\":{\"color\":\"#2a3f5f\"},\"marker\":{\"line\":{\"color\":\"#E5ECF6\",\"width\":0.5},\"pattern\":{\"fillmode\":\"overlay\",\"size\":10,\"solidity\":0.2}},\"type\":\"bar\"}],\"scattergeo\":[{\"type\":\"scattergeo\",\"marker\":{\"colorbar\":{\"outlinewidth\":0,\"ticks\":\"\"}}}],\"scatterpolar\":[{\"type\":\"scatterpolar\",\"marker\":{\"colorbar\":{\"outlinewidth\":0,\"ticks\":\"\"}}}],\"histogram\":[{\"marker\":{\"pattern\":{\"fillmode\":\"overlay\",\"size\":10,\"solidity\":0.2}},\"type\":\"histogram\"}],\"scattergl\":[{\"type\":\"scattergl\",\"marker\":{\"colorbar\":{\"outlinewidth\":0,\"ticks\":\"\"}}}],\"scatter3d\":[{\"type\":\"scatter3d\",\"line\":{\"colorbar\":{\"outlinewidth\":0,\"ticks\":\"\"}},\"marker\":{\"colorbar\":{\"outlinewidth\":0,\"ticks\":\"\"}}}],\"scattermapbox\":[{\"type\":\"scattermapbox\",\"marker\":{\"colorbar\":{\"outlinewidth\":0,\"ticks\":\"\"}}}],\"scatterternary\":[{\"type\":\"scatterternary\",\"marker\":{\"colorbar\":{\"outlinewidth\":0,\"ticks\":\"\"}}}],\"scattercarpet\":[{\"type\":\"scattercarpet\",\"marker\":{\"colorbar\":{\"outlinewidth\":0,\"ticks\":\"\"}}}],\"carpet\":[{\"aaxis\":{\"endlinecolor\":\"#2a3f5f\",\"gridcolor\":\"white\",\"linecolor\":\"white\",\"minorgridcolor\":\"white\",\"startlinecolor\":\"#2a3f5f\"},\"baxis\":{\"endlinecolor\":\"#2a3f5f\",\"gridcolor\":\"white\",\"linecolor\":\"white\",\"minorgridcolor\":\"white\",\"startlinecolor\":\"#2a3f5f\"},\"type\":\"carpet\"}],\"table\":[{\"cells\":{\"fill\":{\"color\":\"#EBF0F8\"},\"line\":{\"color\":\"white\"}},\"header\":{\"fill\":{\"color\":\"#C8D4E3\"},\"line\":{\"color\":\"white\"}},\"type\":\"table\"}],\"barpolar\":[{\"marker\":{\"line\":{\"color\":\"#E5ECF6\",\"width\":0.5},\"pattern\":{\"fillmode\":\"overlay\",\"size\":10,\"solidity\":0.2}},\"type\":\"barpolar\"}],\"pie\":[{\"automargin\":true,\"type\":\"pie\"}]},\"layout\":{\"autotypenumbers\":\"strict\",\"colorway\":[\"#636efa\",\"#EF553B\",\"#00cc96\",\"#ab63fa\",\"#FFA15A\",\"#19d3f3\",\"#FF6692\",\"#B6E880\",\"#FF97FF\",\"#FECB52\"],\"font\":{\"color\":\"#2a3f5f\"},\"hovermode\":\"closest\",\"hoverlabel\":{\"align\":\"left\"},\"paper_bgcolor\":\"white\",\"plot_bgcolor\":\"#E5ECF6\",\"polar\":{\"bgcolor\":\"#E5ECF6\",\"angularaxis\":{\"gridcolor\":\"white\",\"linecolor\":\"white\",\"ticks\":\"\"},\"radialaxis\":{\"gridcolor\":\"white\",\"linecolor\":\"white\",\"ticks\":\"\"}},\"ternary\":{\"bgcolor\":\"#E5ECF6\",\"aaxis\":{\"gridcolor\":\"white\",\"linecolor\":\"white\",\"ticks\":\"\"},\"baxis\":{\"gridcolor\":\"white\",\"linecolor\":\"white\",\"ticks\":\"\"},\"caxis\":{\"gridcolor\":\"white\",\"linecolor\":\"white\",\"ticks\":\"\"}},\"coloraxis\":{\"colorbar\":{\"outlinewidth\":0,\"ticks\":\"\"}},\"colorscale\":{\"sequential\":[[0.0,\"#0d0887\"],[0.1111111111111111,\"#46039f\"],[0.2222222222222222,\"#7201a8\"],[0.3333333333333333,\"#9c179e\"],[0.4444444444444444,\"#bd3786\"],[0.5555555555555556,\"#d8576b\"],[0.6666666666666666,\"#ed7953\"],[0.7777777777777778,\"#fb9f3a\"],[0.8888888888888888,\"#fdca26\"],[1.0,\"#f0f921\"]],\"sequentialminus\":[[0.0,\"#0d0887\"],[0.1111111111111111,\"#46039f\"],[0.2222222222222222,\"#7201a8\"],[0.3333333333333333,\"#9c179e\"],[0.4444444444444444,\"#bd3786\"],[0.5555555555555556,\"#d8576b\"],[0.6666666666666666,\"#ed7953\"],[0.7777777777777778,\"#fb9f3a\"],[0.8888888888888888,\"#fdca26\"],[1.0,\"#f0f921\"]],\"diverging\":[[0,\"#8e0152\"],[0.1,\"#c51b7d\"],[0.2,\"#de77ae\"],[0.3,\"#f1b6da\"],[0.4,\"#fde0ef\"],[0.5,\"#f7f7f7\"],[0.6,\"#e6f5d0\"],[0.7,\"#b8e186\"],[0.8,\"#7fbc41\"],[0.9,\"#4d9221\"],[1,\"#276419\"]]},\"xaxis\":{\"gridcolor\":\"white\",\"linecolor\":\"white\",\"ticks\":\"\",\"title\":{\"standoff\":15},\"zerolinecolor\":\"white\",\"automargin\":true,\"zerolinewidth\":2},\"yaxis\":{\"gridcolor\":\"white\",\"linecolor\":\"white\",\"ticks\":\"\",\"title\":{\"standoff\":15},\"zerolinecolor\":\"white\",\"automargin\":true,\"zerolinewidth\":2},\"scene\":{\"xaxis\":{\"backgroundcolor\":\"#E5ECF6\",\"gridcolor\":\"white\",\"linecolor\":\"white\",\"showbackground\":true,\"ticks\":\"\",\"zerolinecolor\":\"white\",\"gridwidth\":2},\"yaxis\":{\"backgroundcolor\":\"#E5ECF6\",\"gridcolor\":\"white\",\"linecolor\":\"white\",\"showbackground\":true,\"ticks\":\"\",\"zerolinecolor\":\"white\",\"gridwidth\":2},\"zaxis\":{\"backgroundcolor\":\"#E5ECF6\",\"gridcolor\":\"white\",\"linecolor\":\"white\",\"showbackground\":true,\"ticks\":\"\",\"zerolinecolor\":\"white\",\"gridwidth\":2}},\"shapedefaults\":{\"line\":{\"color\":\"#2a3f5f\"}},\"annotationdefaults\":{\"arrowcolor\":\"#2a3f5f\",\"arrowhead\":0,\"arrowwidth\":1},\"geo\":{\"bgcolor\":\"white\",\"landcolor\":\"#E5ECF6\",\"subunitcolor\":\"white\",\"showland\":true,\"showlakes\":true,\"lakecolor\":\"white\"},\"title\":{\"x\":0.05},\"mapbox\":{\"style\":\"light\"}}},\"xaxis\":{\"anchor\":\"y\",\"domain\":[0.0,1.0],\"matches\":\"x2\",\"showticklabels\":false,\"dtick\":1,\"title\":{\"text\":\"Query scan pid\"}},\"yaxis\":{\"anchor\":\"x\",\"domain\":[0.575,1.0]},\"xaxis2\":{\"anchor\":\"y2\",\"domain\":[0.0,1.0],\"dtick\":1,\"title\":{\"text\":\"Query scan pid\"}},\"yaxis2\":{\"anchor\":\"x2\",\"domain\":[0.0,0.425]},\"width\":1500,\"height\":500},                        {\"responsive\": true}                    ).then(function(){\n",
       "                            \n",
       "var gd = document.getElementById('cbc50ef4-dc0f-41f9-9666-e8258654d908');\n",
       "var x = new MutationObserver(function (mutations, observer) {{\n",
       "        var display = window.getComputedStyle(gd).display;\n",
       "        if (!display || display === 'none') {{\n",
       "            console.log([gd, 'removed!']);\n",
       "            Plotly.purge(gd);\n",
       "            observer.disconnect();\n",
       "        }}\n",
       "}});\n",
       "\n",
       "// Listen for the removal of the full notebook cells\n",
       "var notebookContainer = gd.closest('#notebook-container');\n",
       "if (notebookContainer) {{\n",
       "    x.observe(notebookContainer, {childList: true});\n",
       "}}\n",
       "\n",
       "// Listen for the clearing of the current output cell\n",
       "var outputEl = gd.closest('.output');\n",
       "if (outputEl) {{\n",
       "    x.observe(outputEl, {childList: true});\n",
       "}}\n",
       "\n",
       "                        })                };                });            </script>        </div>"
      ]
     },
     "metadata": {},
     "output_type": "display_data"
    }
   ],
   "source": [
    "visualize.binary_(cols=[\"gender\", \"diaghype\"], \n",
    "                        pids=pids)"
   ]
  }
 ],
 "metadata": {
  "kernelspec": {
   "display_name": "Python 3",
   "language": "python",
   "name": "python3"
  },
  "language_info": {
   "codemirror_mode": {
    "name": "ipython",
    "version": 3
   },
   "file_extension": ".py",
   "mimetype": "text/x-python",
   "name": "python",
   "nbconvert_exporter": "python",
   "pygments_lexer": "ipython3",
   "version": "3.8.10"
  },
  "vscode": {
   "interpreter": {
    "hash": "e7370f93d1d0cde622a1f8e1c04877d8463912d04d973331ad4851f04de6915a"
   }
  }
 },
 "nbformat": 4,
 "nbformat_minor": 5
}
